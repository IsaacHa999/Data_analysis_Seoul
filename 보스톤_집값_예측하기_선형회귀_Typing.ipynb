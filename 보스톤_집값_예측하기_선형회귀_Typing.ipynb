{
  "cells": [
    {
      "cell_type": "markdown",
      "metadata": {
        "id": "view-in-github",
        "colab_type": "text"
      },
      "source": [
        "<a href=\"https://colab.research.google.com/github/IsaacHa999/Data_analysis_Seoul/blob/main/%EB%B3%B4%EC%8A%A4%ED%86%A4_%EC%A7%91%EA%B0%92_%EC%98%88%EC%B8%A1%ED%95%98%EA%B8%B0_%EC%84%A0%ED%98%95%ED%9A%8C%EA%B7%80_Typing.ipynb\" target=\"_parent\"><img src=\"https://colab.research.google.com/assets/colab-badge.svg\" alt=\"Open In Colab\"/></a>"
      ]
    },
    {
      "cell_type": "markdown",
      "metadata": {
        "id": "bKrOqX0-UlC7"
      },
      "source": [
        "# 보스톤 집값 예측하기(단순선형회귀)"
      ]
    },
    {
      "cell_type": "code",
      "source": [
        "from google.colab import drive\n",
        "drive.mount('/content/drive')"
      ],
      "metadata": {
        "colab": {
          "base_uri": "https://localhost:8080/"
        },
        "id": "GTgrNAJaUmq9",
        "outputId": "4dd7988f-43eb-4e53-ef80-4c261100ae18"
      },
      "execution_count": 1,
      "outputs": [
        {
          "output_type": "stream",
          "name": "stdout",
          "text": [
            "Mounted at /content/drive\n"
          ]
        }
      ]
    },
    {
      "cell_type": "code",
      "execution_count": 2,
      "metadata": {
        "id": "EHYjYfiIUlC-"
      },
      "outputs": [],
      "source": [
        "#주요 모듈 임포트\n",
        "import pandas as pd \n",
        "import statsmodels.formula.api as smf"
      ]
    },
    {
      "cell_type": "markdown",
      "metadata": {
        "id": "W0s-oa57UlC_"
      },
      "source": [
        "## 1. 데이터불러오기"
      ]
    },
    {
      "cell_type": "code",
      "execution_count": 3,
      "metadata": {
        "colab": {
          "base_uri": "https://localhost:8080/",
          "height": 206
        },
        "id": "W_oKcr78UlC_",
        "outputId": "8eb7c764-6f6e-49d0-951c-b5773b9ba145"
      },
      "outputs": [
        {
          "output_type": "execute_result",
          "data": {
            "text/plain": [
              "    AGE       B     RM     CRIM     DIS  INDUS  LSTAT    NOX  PTRATIO  RAD  \\\n",
              "0  65.2  396.90  6.575  0.00632  4.0900   2.31   4.98  0.538     15.3    1   \n",
              "1  78.9  396.90  6.421  0.02731  4.9671   7.07   9.14  0.469     17.8    2   \n",
              "2  61.1  392.83  7.185  0.02729  4.9671   7.07   4.03  0.469     17.8    2   \n",
              "3  45.8  394.63  6.998  0.03237  6.0622   2.18   2.94  0.458     18.7    3   \n",
              "4  54.2  396.90  7.147  0.06905  6.0622   2.18   5.33  0.458     18.7    3   \n",
              "\n",
              "     ZN  TAX  CHAS  Target  \n",
              "0  18.0  296     0    24.0  \n",
              "1   0.0  242     0    21.6  \n",
              "2   0.0  242     0    34.7  \n",
              "3   0.0  222     0    33.4  \n",
              "4   0.0  222     0    36.2  "
            ],
            "text/html": [
              "\n",
              "  <div id=\"df-e98beb40-8ce6-4d6d-8783-637a58e4bba8\">\n",
              "    <div class=\"colab-df-container\">\n",
              "      <div>\n",
              "<style scoped>\n",
              "    .dataframe tbody tr th:only-of-type {\n",
              "        vertical-align: middle;\n",
              "    }\n",
              "\n",
              "    .dataframe tbody tr th {\n",
              "        vertical-align: top;\n",
              "    }\n",
              "\n",
              "    .dataframe thead th {\n",
              "        text-align: right;\n",
              "    }\n",
              "</style>\n",
              "<table border=\"1\" class=\"dataframe\">\n",
              "  <thead>\n",
              "    <tr style=\"text-align: right;\">\n",
              "      <th></th>\n",
              "      <th>AGE</th>\n",
              "      <th>B</th>\n",
              "      <th>RM</th>\n",
              "      <th>CRIM</th>\n",
              "      <th>DIS</th>\n",
              "      <th>INDUS</th>\n",
              "      <th>LSTAT</th>\n",
              "      <th>NOX</th>\n",
              "      <th>PTRATIO</th>\n",
              "      <th>RAD</th>\n",
              "      <th>ZN</th>\n",
              "      <th>TAX</th>\n",
              "      <th>CHAS</th>\n",
              "      <th>Target</th>\n",
              "    </tr>\n",
              "  </thead>\n",
              "  <tbody>\n",
              "    <tr>\n",
              "      <th>0</th>\n",
              "      <td>65.2</td>\n",
              "      <td>396.90</td>\n",
              "      <td>6.575</td>\n",
              "      <td>0.00632</td>\n",
              "      <td>4.0900</td>\n",
              "      <td>2.31</td>\n",
              "      <td>4.98</td>\n",
              "      <td>0.538</td>\n",
              "      <td>15.3</td>\n",
              "      <td>1</td>\n",
              "      <td>18.0</td>\n",
              "      <td>296</td>\n",
              "      <td>0</td>\n",
              "      <td>24.0</td>\n",
              "    </tr>\n",
              "    <tr>\n",
              "      <th>1</th>\n",
              "      <td>78.9</td>\n",
              "      <td>396.90</td>\n",
              "      <td>6.421</td>\n",
              "      <td>0.02731</td>\n",
              "      <td>4.9671</td>\n",
              "      <td>7.07</td>\n",
              "      <td>9.14</td>\n",
              "      <td>0.469</td>\n",
              "      <td>17.8</td>\n",
              "      <td>2</td>\n",
              "      <td>0.0</td>\n",
              "      <td>242</td>\n",
              "      <td>0</td>\n",
              "      <td>21.6</td>\n",
              "    </tr>\n",
              "    <tr>\n",
              "      <th>2</th>\n",
              "      <td>61.1</td>\n",
              "      <td>392.83</td>\n",
              "      <td>7.185</td>\n",
              "      <td>0.02729</td>\n",
              "      <td>4.9671</td>\n",
              "      <td>7.07</td>\n",
              "      <td>4.03</td>\n",
              "      <td>0.469</td>\n",
              "      <td>17.8</td>\n",
              "      <td>2</td>\n",
              "      <td>0.0</td>\n",
              "      <td>242</td>\n",
              "      <td>0</td>\n",
              "      <td>34.7</td>\n",
              "    </tr>\n",
              "    <tr>\n",
              "      <th>3</th>\n",
              "      <td>45.8</td>\n",
              "      <td>394.63</td>\n",
              "      <td>6.998</td>\n",
              "      <td>0.03237</td>\n",
              "      <td>6.0622</td>\n",
              "      <td>2.18</td>\n",
              "      <td>2.94</td>\n",
              "      <td>0.458</td>\n",
              "      <td>18.7</td>\n",
              "      <td>3</td>\n",
              "      <td>0.0</td>\n",
              "      <td>222</td>\n",
              "      <td>0</td>\n",
              "      <td>33.4</td>\n",
              "    </tr>\n",
              "    <tr>\n",
              "      <th>4</th>\n",
              "      <td>54.2</td>\n",
              "      <td>396.90</td>\n",
              "      <td>7.147</td>\n",
              "      <td>0.06905</td>\n",
              "      <td>6.0622</td>\n",
              "      <td>2.18</td>\n",
              "      <td>5.33</td>\n",
              "      <td>0.458</td>\n",
              "      <td>18.7</td>\n",
              "      <td>3</td>\n",
              "      <td>0.0</td>\n",
              "      <td>222</td>\n",
              "      <td>0</td>\n",
              "      <td>36.2</td>\n",
              "    </tr>\n",
              "  </tbody>\n",
              "</table>\n",
              "</div>\n",
              "      <button class=\"colab-df-convert\" onclick=\"convertToInteractive('df-e98beb40-8ce6-4d6d-8783-637a58e4bba8')\"\n",
              "              title=\"Convert this dataframe to an interactive table.\"\n",
              "              style=\"display:none;\">\n",
              "        \n",
              "  <svg xmlns=\"http://www.w3.org/2000/svg\" height=\"24px\"viewBox=\"0 0 24 24\"\n",
              "       width=\"24px\">\n",
              "    <path d=\"M0 0h24v24H0V0z\" fill=\"none\"/>\n",
              "    <path d=\"M18.56 5.44l.94 2.06.94-2.06 2.06-.94-2.06-.94-.94-2.06-.94 2.06-2.06.94zm-11 1L8.5 8.5l.94-2.06 2.06-.94-2.06-.94L8.5 2.5l-.94 2.06-2.06.94zm10 10l.94 2.06.94-2.06 2.06-.94-2.06-.94-.94-2.06-.94 2.06-2.06.94z\"/><path d=\"M17.41 7.96l-1.37-1.37c-.4-.4-.92-.59-1.43-.59-.52 0-1.04.2-1.43.59L10.3 9.45l-7.72 7.72c-.78.78-.78 2.05 0 2.83L4 21.41c.39.39.9.59 1.41.59.51 0 1.02-.2 1.41-.59l7.78-7.78 2.81-2.81c.8-.78.8-2.07 0-2.86zM5.41 20L4 18.59l7.72-7.72 1.47 1.35L5.41 20z\"/>\n",
              "  </svg>\n",
              "      </button>\n",
              "      \n",
              "  <style>\n",
              "    .colab-df-container {\n",
              "      display:flex;\n",
              "      flex-wrap:wrap;\n",
              "      gap: 12px;\n",
              "    }\n",
              "\n",
              "    .colab-df-convert {\n",
              "      background-color: #E8F0FE;\n",
              "      border: none;\n",
              "      border-radius: 50%;\n",
              "      cursor: pointer;\n",
              "      display: none;\n",
              "      fill: #1967D2;\n",
              "      height: 32px;\n",
              "      padding: 0 0 0 0;\n",
              "      width: 32px;\n",
              "    }\n",
              "\n",
              "    .colab-df-convert:hover {\n",
              "      background-color: #E2EBFA;\n",
              "      box-shadow: 0px 1px 2px rgba(60, 64, 67, 0.3), 0px 1px 3px 1px rgba(60, 64, 67, 0.15);\n",
              "      fill: #174EA6;\n",
              "    }\n",
              "\n",
              "    [theme=dark] .colab-df-convert {\n",
              "      background-color: #3B4455;\n",
              "      fill: #D2E3FC;\n",
              "    }\n",
              "\n",
              "    [theme=dark] .colab-df-convert:hover {\n",
              "      background-color: #434B5C;\n",
              "      box-shadow: 0px 1px 3px 1px rgba(0, 0, 0, 0.15);\n",
              "      filter: drop-shadow(0px 1px 2px rgba(0, 0, 0, 0.3));\n",
              "      fill: #FFFFFF;\n",
              "    }\n",
              "  </style>\n",
              "\n",
              "      <script>\n",
              "        const buttonEl =\n",
              "          document.querySelector('#df-e98beb40-8ce6-4d6d-8783-637a58e4bba8 button.colab-df-convert');\n",
              "        buttonEl.style.display =\n",
              "          google.colab.kernel.accessAllowed ? 'block' : 'none';\n",
              "\n",
              "        async function convertToInteractive(key) {\n",
              "          const element = document.querySelector('#df-e98beb40-8ce6-4d6d-8783-637a58e4bba8');\n",
              "          const dataTable =\n",
              "            await google.colab.kernel.invokeFunction('convertToInteractive',\n",
              "                                                     [key], {});\n",
              "          if (!dataTable) return;\n",
              "\n",
              "          const docLinkHtml = 'Like what you see? Visit the ' +\n",
              "            '<a target=\"_blank\" href=https://colab.research.google.com/notebooks/data_table.ipynb>data table notebook</a>'\n",
              "            + ' to learn more about interactive tables.';\n",
              "          element.innerHTML = '';\n",
              "          dataTable['output_type'] = 'display_data';\n",
              "          await google.colab.output.renderOutput(dataTable, element);\n",
              "          const docLink = document.createElement('div');\n",
              "          docLink.innerHTML = docLinkHtml;\n",
              "          element.appendChild(docLink);\n",
              "        }\n",
              "      </script>\n",
              "    </div>\n",
              "  </div>\n",
              "  "
            ]
          },
          "metadata": {},
          "execution_count": 3
        }
      ],
      "source": [
        "# 데이터 불러오기\n",
        "# Colab에서는 파일의경로명을 해당 파일 옆에 점 세개 버튼의 경로 복사로 복사해 사용\n",
        "# 예) boston = pd.read_csv(\"/content/drive/MyDrive/Colab Notebooks/AI_3주차_실습파일_오프라인/Boston_house.csv\")\n",
        "boston = pd.read_csv(\"/content/drive/MyDrive/머신러닝/Boston_house.csv\")\n",
        "boston.head()"
      ]
    },
    {
      "cell_type": "code",
      "execution_count": null,
      "metadata": {
        "id": "H4fZhfWDUlDA"
      },
      "outputs": [],
      "source": [
        "'''\n",
        "타겟 데이터\n",
        "1978 보스턴 주택 가격\n",
        "506개 타운의 주택 가격 중앙값 (단위 1,000 달러)\n",
        "\n",
        "특징 데이터\n",
        "CRIM: 범죄율\n",
        "INDUS: 비소매상업지역 면적 비율\n",
        "NOX: 일산화질소 농도\n",
        "RM: 주택당 방 수\n",
        "LSTAT: 인구 중 하위 계층 비율\n",
        "B: 인구 중 흑인 비율\n",
        "PTRATIO: 학생/교사 비율\n",
        "ZN: 25,000 평방피트를 초과 거주지역 비율\n",
        "CHAS: 찰스강의 경계에 위치한 경우는 1, 아니면 0\n",
        "AGE: 1940년 이전에 건축된 주택의 비율\n",
        "RAD: 방사형 고속도로까지의 거리\n",
        "DIS: 직업센터의 거리\n",
        "TAX: 재산세율'''"
      ]
    },
    {
      "cell_type": "code",
      "execution_count": 4,
      "metadata": {
        "colab": {
          "base_uri": "https://localhost:8080/",
          "height": 300
        },
        "id": "aisvNY1JUlDA",
        "outputId": "b1146bc0-ed92-4d9e-c0ac-e7224e643f6f"
      },
      "outputs": [
        {
          "output_type": "execute_result",
          "data": {
            "text/plain": [
              "              AGE           B          RM        CRIM         DIS       INDUS  \\\n",
              "count  506.000000  506.000000  506.000000  506.000000  506.000000  506.000000   \n",
              "mean    68.574901  356.674032    6.284634    3.613524    3.795043   11.136779   \n",
              "std     28.148861   91.294864    0.702617    8.601545    2.105710    6.860353   \n",
              "min      2.900000    0.320000    3.561000    0.006320    1.129600    0.460000   \n",
              "25%     45.025000  375.377500    5.885500    0.082045    2.100175    5.190000   \n",
              "50%     77.500000  391.440000    6.208500    0.256510    3.207450    9.690000   \n",
              "75%     94.075000  396.225000    6.623500    3.677083    5.188425   18.100000   \n",
              "max    100.000000  396.900000    8.780000   88.976200   12.126500   27.740000   \n",
              "\n",
              "            LSTAT         NOX     PTRATIO         RAD          ZN         TAX  \\\n",
              "count  506.000000  506.000000  506.000000  506.000000  506.000000  506.000000   \n",
              "mean    12.653063    0.554695   18.455534    9.549407   11.363636  408.237154   \n",
              "std      7.141062    0.115878    2.164946    8.707259   23.322453  168.537116   \n",
              "min      1.730000    0.385000   12.600000    1.000000    0.000000  187.000000   \n",
              "25%      6.950000    0.449000   17.400000    4.000000    0.000000  279.000000   \n",
              "50%     11.360000    0.538000   19.050000    5.000000    0.000000  330.000000   \n",
              "75%     16.955000    0.624000   20.200000   24.000000   12.500000  666.000000   \n",
              "max     37.970000    0.871000   22.000000   24.000000  100.000000  711.000000   \n",
              "\n",
              "             CHAS      Target  \n",
              "count  506.000000  506.000000  \n",
              "mean     0.069170   22.532806  \n",
              "std      0.253994    9.197104  \n",
              "min      0.000000    5.000000  \n",
              "25%      0.000000   17.025000  \n",
              "50%      0.000000   21.200000  \n",
              "75%      0.000000   25.000000  \n",
              "max      1.000000   50.000000  "
            ],
            "text/html": [
              "\n",
              "  <div id=\"df-3b9b6dae-a185-4880-a87c-7ba8507835fe\">\n",
              "    <div class=\"colab-df-container\">\n",
              "      <div>\n",
              "<style scoped>\n",
              "    .dataframe tbody tr th:only-of-type {\n",
              "        vertical-align: middle;\n",
              "    }\n",
              "\n",
              "    .dataframe tbody tr th {\n",
              "        vertical-align: top;\n",
              "    }\n",
              "\n",
              "    .dataframe thead th {\n",
              "        text-align: right;\n",
              "    }\n",
              "</style>\n",
              "<table border=\"1\" class=\"dataframe\">\n",
              "  <thead>\n",
              "    <tr style=\"text-align: right;\">\n",
              "      <th></th>\n",
              "      <th>AGE</th>\n",
              "      <th>B</th>\n",
              "      <th>RM</th>\n",
              "      <th>CRIM</th>\n",
              "      <th>DIS</th>\n",
              "      <th>INDUS</th>\n",
              "      <th>LSTAT</th>\n",
              "      <th>NOX</th>\n",
              "      <th>PTRATIO</th>\n",
              "      <th>RAD</th>\n",
              "      <th>ZN</th>\n",
              "      <th>TAX</th>\n",
              "      <th>CHAS</th>\n",
              "      <th>Target</th>\n",
              "    </tr>\n",
              "  </thead>\n",
              "  <tbody>\n",
              "    <tr>\n",
              "      <th>count</th>\n",
              "      <td>506.000000</td>\n",
              "      <td>506.000000</td>\n",
              "      <td>506.000000</td>\n",
              "      <td>506.000000</td>\n",
              "      <td>506.000000</td>\n",
              "      <td>506.000000</td>\n",
              "      <td>506.000000</td>\n",
              "      <td>506.000000</td>\n",
              "      <td>506.000000</td>\n",
              "      <td>506.000000</td>\n",
              "      <td>506.000000</td>\n",
              "      <td>506.000000</td>\n",
              "      <td>506.000000</td>\n",
              "      <td>506.000000</td>\n",
              "    </tr>\n",
              "    <tr>\n",
              "      <th>mean</th>\n",
              "      <td>68.574901</td>\n",
              "      <td>356.674032</td>\n",
              "      <td>6.284634</td>\n",
              "      <td>3.613524</td>\n",
              "      <td>3.795043</td>\n",
              "      <td>11.136779</td>\n",
              "      <td>12.653063</td>\n",
              "      <td>0.554695</td>\n",
              "      <td>18.455534</td>\n",
              "      <td>9.549407</td>\n",
              "      <td>11.363636</td>\n",
              "      <td>408.237154</td>\n",
              "      <td>0.069170</td>\n",
              "      <td>22.532806</td>\n",
              "    </tr>\n",
              "    <tr>\n",
              "      <th>std</th>\n",
              "      <td>28.148861</td>\n",
              "      <td>91.294864</td>\n",
              "      <td>0.702617</td>\n",
              "      <td>8.601545</td>\n",
              "      <td>2.105710</td>\n",
              "      <td>6.860353</td>\n",
              "      <td>7.141062</td>\n",
              "      <td>0.115878</td>\n",
              "      <td>2.164946</td>\n",
              "      <td>8.707259</td>\n",
              "      <td>23.322453</td>\n",
              "      <td>168.537116</td>\n",
              "      <td>0.253994</td>\n",
              "      <td>9.197104</td>\n",
              "    </tr>\n",
              "    <tr>\n",
              "      <th>min</th>\n",
              "      <td>2.900000</td>\n",
              "      <td>0.320000</td>\n",
              "      <td>3.561000</td>\n",
              "      <td>0.006320</td>\n",
              "      <td>1.129600</td>\n",
              "      <td>0.460000</td>\n",
              "      <td>1.730000</td>\n",
              "      <td>0.385000</td>\n",
              "      <td>12.600000</td>\n",
              "      <td>1.000000</td>\n",
              "      <td>0.000000</td>\n",
              "      <td>187.000000</td>\n",
              "      <td>0.000000</td>\n",
              "      <td>5.000000</td>\n",
              "    </tr>\n",
              "    <tr>\n",
              "      <th>25%</th>\n",
              "      <td>45.025000</td>\n",
              "      <td>375.377500</td>\n",
              "      <td>5.885500</td>\n",
              "      <td>0.082045</td>\n",
              "      <td>2.100175</td>\n",
              "      <td>5.190000</td>\n",
              "      <td>6.950000</td>\n",
              "      <td>0.449000</td>\n",
              "      <td>17.400000</td>\n",
              "      <td>4.000000</td>\n",
              "      <td>0.000000</td>\n",
              "      <td>279.000000</td>\n",
              "      <td>0.000000</td>\n",
              "      <td>17.025000</td>\n",
              "    </tr>\n",
              "    <tr>\n",
              "      <th>50%</th>\n",
              "      <td>77.500000</td>\n",
              "      <td>391.440000</td>\n",
              "      <td>6.208500</td>\n",
              "      <td>0.256510</td>\n",
              "      <td>3.207450</td>\n",
              "      <td>9.690000</td>\n",
              "      <td>11.360000</td>\n",
              "      <td>0.538000</td>\n",
              "      <td>19.050000</td>\n",
              "      <td>5.000000</td>\n",
              "      <td>0.000000</td>\n",
              "      <td>330.000000</td>\n",
              "      <td>0.000000</td>\n",
              "      <td>21.200000</td>\n",
              "    </tr>\n",
              "    <tr>\n",
              "      <th>75%</th>\n",
              "      <td>94.075000</td>\n",
              "      <td>396.225000</td>\n",
              "      <td>6.623500</td>\n",
              "      <td>3.677083</td>\n",
              "      <td>5.188425</td>\n",
              "      <td>18.100000</td>\n",
              "      <td>16.955000</td>\n",
              "      <td>0.624000</td>\n",
              "      <td>20.200000</td>\n",
              "      <td>24.000000</td>\n",
              "      <td>12.500000</td>\n",
              "      <td>666.000000</td>\n",
              "      <td>0.000000</td>\n",
              "      <td>25.000000</td>\n",
              "    </tr>\n",
              "    <tr>\n",
              "      <th>max</th>\n",
              "      <td>100.000000</td>\n",
              "      <td>396.900000</td>\n",
              "      <td>8.780000</td>\n",
              "      <td>88.976200</td>\n",
              "      <td>12.126500</td>\n",
              "      <td>27.740000</td>\n",
              "      <td>37.970000</td>\n",
              "      <td>0.871000</td>\n",
              "      <td>22.000000</td>\n",
              "      <td>24.000000</td>\n",
              "      <td>100.000000</td>\n",
              "      <td>711.000000</td>\n",
              "      <td>1.000000</td>\n",
              "      <td>50.000000</td>\n",
              "    </tr>\n",
              "  </tbody>\n",
              "</table>\n",
              "</div>\n",
              "      <button class=\"colab-df-convert\" onclick=\"convertToInteractive('df-3b9b6dae-a185-4880-a87c-7ba8507835fe')\"\n",
              "              title=\"Convert this dataframe to an interactive table.\"\n",
              "              style=\"display:none;\">\n",
              "        \n",
              "  <svg xmlns=\"http://www.w3.org/2000/svg\" height=\"24px\"viewBox=\"0 0 24 24\"\n",
              "       width=\"24px\">\n",
              "    <path d=\"M0 0h24v24H0V0z\" fill=\"none\"/>\n",
              "    <path d=\"M18.56 5.44l.94 2.06.94-2.06 2.06-.94-2.06-.94-.94-2.06-.94 2.06-2.06.94zm-11 1L8.5 8.5l.94-2.06 2.06-.94-2.06-.94L8.5 2.5l-.94 2.06-2.06.94zm10 10l.94 2.06.94-2.06 2.06-.94-2.06-.94-.94-2.06-.94 2.06-2.06.94z\"/><path d=\"M17.41 7.96l-1.37-1.37c-.4-.4-.92-.59-1.43-.59-.52 0-1.04.2-1.43.59L10.3 9.45l-7.72 7.72c-.78.78-.78 2.05 0 2.83L4 21.41c.39.39.9.59 1.41.59.51 0 1.02-.2 1.41-.59l7.78-7.78 2.81-2.81c.8-.78.8-2.07 0-2.86zM5.41 20L4 18.59l7.72-7.72 1.47 1.35L5.41 20z\"/>\n",
              "  </svg>\n",
              "      </button>\n",
              "      \n",
              "  <style>\n",
              "    .colab-df-container {\n",
              "      display:flex;\n",
              "      flex-wrap:wrap;\n",
              "      gap: 12px;\n",
              "    }\n",
              "\n",
              "    .colab-df-convert {\n",
              "      background-color: #E8F0FE;\n",
              "      border: none;\n",
              "      border-radius: 50%;\n",
              "      cursor: pointer;\n",
              "      display: none;\n",
              "      fill: #1967D2;\n",
              "      height: 32px;\n",
              "      padding: 0 0 0 0;\n",
              "      width: 32px;\n",
              "    }\n",
              "\n",
              "    .colab-df-convert:hover {\n",
              "      background-color: #E2EBFA;\n",
              "      box-shadow: 0px 1px 2px rgba(60, 64, 67, 0.3), 0px 1px 3px 1px rgba(60, 64, 67, 0.15);\n",
              "      fill: #174EA6;\n",
              "    }\n",
              "\n",
              "    [theme=dark] .colab-df-convert {\n",
              "      background-color: #3B4455;\n",
              "      fill: #D2E3FC;\n",
              "    }\n",
              "\n",
              "    [theme=dark] .colab-df-convert:hover {\n",
              "      background-color: #434B5C;\n",
              "      box-shadow: 0px 1px 3px 1px rgba(0, 0, 0, 0.15);\n",
              "      filter: drop-shadow(0px 1px 2px rgba(0, 0, 0, 0.3));\n",
              "      fill: #FFFFFF;\n",
              "    }\n",
              "  </style>\n",
              "\n",
              "      <script>\n",
              "        const buttonEl =\n",
              "          document.querySelector('#df-3b9b6dae-a185-4880-a87c-7ba8507835fe button.colab-df-convert');\n",
              "        buttonEl.style.display =\n",
              "          google.colab.kernel.accessAllowed ? 'block' : 'none';\n",
              "\n",
              "        async function convertToInteractive(key) {\n",
              "          const element = document.querySelector('#df-3b9b6dae-a185-4880-a87c-7ba8507835fe');\n",
              "          const dataTable =\n",
              "            await google.colab.kernel.invokeFunction('convertToInteractive',\n",
              "                                                     [key], {});\n",
              "          if (!dataTable) return;\n",
              "\n",
              "          const docLinkHtml = 'Like what you see? Visit the ' +\n",
              "            '<a target=\"_blank\" href=https://colab.research.google.com/notebooks/data_table.ipynb>data table notebook</a>'\n",
              "            + ' to learn more about interactive tables.';\n",
              "          element.innerHTML = '';\n",
              "          dataTable['output_type'] = 'display_data';\n",
              "          await google.colab.output.renderOutput(dataTable, element);\n",
              "          const docLink = document.createElement('div');\n",
              "          docLink.innerHTML = docLinkHtml;\n",
              "          element.appendChild(docLink);\n",
              "        }\n",
              "      </script>\n",
              "    </div>\n",
              "  </div>\n",
              "  "
            ]
          },
          "metadata": {},
          "execution_count": 4
        }
      ],
      "source": [
        "boston.describe()"
      ]
    },
    {
      "cell_type": "code",
      "execution_count": 5,
      "metadata": {
        "colab": {
          "base_uri": "https://localhost:8080/",
          "height": 424
        },
        "id": "lS4206aNUlDB",
        "outputId": "a181a0f8-33fb-4c74-ac6b-93cb3a2789b4"
      },
      "outputs": [
        {
          "output_type": "execute_result",
          "data": {
            "text/plain": [
              "     Target     CRIM     RM  LSTAT\n",
              "0      24.0  0.00632  6.575   4.98\n",
              "1      21.6  0.02731  6.421   9.14\n",
              "2      34.7  0.02729  7.185   4.03\n",
              "3      33.4  0.03237  6.998   2.94\n",
              "4      36.2  0.06905  7.147   5.33\n",
              "..      ...      ...    ...    ...\n",
              "501    22.4  0.06263  6.593   9.67\n",
              "502    20.6  0.04527  6.120   9.08\n",
              "503    23.9  0.06076  6.976   5.64\n",
              "504    22.0  0.10959  6.794   6.48\n",
              "505    11.9  0.04741  6.030   7.88\n",
              "\n",
              "[506 rows x 4 columns]"
            ],
            "text/html": [
              "\n",
              "  <div id=\"df-d1e018a7-aadc-4a43-9129-6f35bb5fa9c4\">\n",
              "    <div class=\"colab-df-container\">\n",
              "      <div>\n",
              "<style scoped>\n",
              "    .dataframe tbody tr th:only-of-type {\n",
              "        vertical-align: middle;\n",
              "    }\n",
              "\n",
              "    .dataframe tbody tr th {\n",
              "        vertical-align: top;\n",
              "    }\n",
              "\n",
              "    .dataframe thead th {\n",
              "        text-align: right;\n",
              "    }\n",
              "</style>\n",
              "<table border=\"1\" class=\"dataframe\">\n",
              "  <thead>\n",
              "    <tr style=\"text-align: right;\">\n",
              "      <th></th>\n",
              "      <th>Target</th>\n",
              "      <th>CRIM</th>\n",
              "      <th>RM</th>\n",
              "      <th>LSTAT</th>\n",
              "    </tr>\n",
              "  </thead>\n",
              "  <tbody>\n",
              "    <tr>\n",
              "      <th>0</th>\n",
              "      <td>24.0</td>\n",
              "      <td>0.00632</td>\n",
              "      <td>6.575</td>\n",
              "      <td>4.98</td>\n",
              "    </tr>\n",
              "    <tr>\n",
              "      <th>1</th>\n",
              "      <td>21.6</td>\n",
              "      <td>0.02731</td>\n",
              "      <td>6.421</td>\n",
              "      <td>9.14</td>\n",
              "    </tr>\n",
              "    <tr>\n",
              "      <th>2</th>\n",
              "      <td>34.7</td>\n",
              "      <td>0.02729</td>\n",
              "      <td>7.185</td>\n",
              "      <td>4.03</td>\n",
              "    </tr>\n",
              "    <tr>\n",
              "      <th>3</th>\n",
              "      <td>33.4</td>\n",
              "      <td>0.03237</td>\n",
              "      <td>6.998</td>\n",
              "      <td>2.94</td>\n",
              "    </tr>\n",
              "    <tr>\n",
              "      <th>4</th>\n",
              "      <td>36.2</td>\n",
              "      <td>0.06905</td>\n",
              "      <td>7.147</td>\n",
              "      <td>5.33</td>\n",
              "    </tr>\n",
              "    <tr>\n",
              "      <th>...</th>\n",
              "      <td>...</td>\n",
              "      <td>...</td>\n",
              "      <td>...</td>\n",
              "      <td>...</td>\n",
              "    </tr>\n",
              "    <tr>\n",
              "      <th>501</th>\n",
              "      <td>22.4</td>\n",
              "      <td>0.06263</td>\n",
              "      <td>6.593</td>\n",
              "      <td>9.67</td>\n",
              "    </tr>\n",
              "    <tr>\n",
              "      <th>502</th>\n",
              "      <td>20.6</td>\n",
              "      <td>0.04527</td>\n",
              "      <td>6.120</td>\n",
              "      <td>9.08</td>\n",
              "    </tr>\n",
              "    <tr>\n",
              "      <th>503</th>\n",
              "      <td>23.9</td>\n",
              "      <td>0.06076</td>\n",
              "      <td>6.976</td>\n",
              "      <td>5.64</td>\n",
              "    </tr>\n",
              "    <tr>\n",
              "      <th>504</th>\n",
              "      <td>22.0</td>\n",
              "      <td>0.10959</td>\n",
              "      <td>6.794</td>\n",
              "      <td>6.48</td>\n",
              "    </tr>\n",
              "    <tr>\n",
              "      <th>505</th>\n",
              "      <td>11.9</td>\n",
              "      <td>0.04741</td>\n",
              "      <td>6.030</td>\n",
              "      <td>7.88</td>\n",
              "    </tr>\n",
              "  </tbody>\n",
              "</table>\n",
              "<p>506 rows × 4 columns</p>\n",
              "</div>\n",
              "      <button class=\"colab-df-convert\" onclick=\"convertToInteractive('df-d1e018a7-aadc-4a43-9129-6f35bb5fa9c4')\"\n",
              "              title=\"Convert this dataframe to an interactive table.\"\n",
              "              style=\"display:none;\">\n",
              "        \n",
              "  <svg xmlns=\"http://www.w3.org/2000/svg\" height=\"24px\"viewBox=\"0 0 24 24\"\n",
              "       width=\"24px\">\n",
              "    <path d=\"M0 0h24v24H0V0z\" fill=\"none\"/>\n",
              "    <path d=\"M18.56 5.44l.94 2.06.94-2.06 2.06-.94-2.06-.94-.94-2.06-.94 2.06-2.06.94zm-11 1L8.5 8.5l.94-2.06 2.06-.94-2.06-.94L8.5 2.5l-.94 2.06-2.06.94zm10 10l.94 2.06.94-2.06 2.06-.94-2.06-.94-.94-2.06-.94 2.06-2.06.94z\"/><path d=\"M17.41 7.96l-1.37-1.37c-.4-.4-.92-.59-1.43-.59-.52 0-1.04.2-1.43.59L10.3 9.45l-7.72 7.72c-.78.78-.78 2.05 0 2.83L4 21.41c.39.39.9.59 1.41.59.51 0 1.02-.2 1.41-.59l7.78-7.78 2.81-2.81c.8-.78.8-2.07 0-2.86zM5.41 20L4 18.59l7.72-7.72 1.47 1.35L5.41 20z\"/>\n",
              "  </svg>\n",
              "      </button>\n",
              "      \n",
              "  <style>\n",
              "    .colab-df-container {\n",
              "      display:flex;\n",
              "      flex-wrap:wrap;\n",
              "      gap: 12px;\n",
              "    }\n",
              "\n",
              "    .colab-df-convert {\n",
              "      background-color: #E8F0FE;\n",
              "      border: none;\n",
              "      border-radius: 50%;\n",
              "      cursor: pointer;\n",
              "      display: none;\n",
              "      fill: #1967D2;\n",
              "      height: 32px;\n",
              "      padding: 0 0 0 0;\n",
              "      width: 32px;\n",
              "    }\n",
              "\n",
              "    .colab-df-convert:hover {\n",
              "      background-color: #E2EBFA;\n",
              "      box-shadow: 0px 1px 2px rgba(60, 64, 67, 0.3), 0px 1px 3px 1px rgba(60, 64, 67, 0.15);\n",
              "      fill: #174EA6;\n",
              "    }\n",
              "\n",
              "    [theme=dark] .colab-df-convert {\n",
              "      background-color: #3B4455;\n",
              "      fill: #D2E3FC;\n",
              "    }\n",
              "\n",
              "    [theme=dark] .colab-df-convert:hover {\n",
              "      background-color: #434B5C;\n",
              "      box-shadow: 0px 1px 3px 1px rgba(0, 0, 0, 0.15);\n",
              "      filter: drop-shadow(0px 1px 2px rgba(0, 0, 0, 0.3));\n",
              "      fill: #FFFFFF;\n",
              "    }\n",
              "  </style>\n",
              "\n",
              "      <script>\n",
              "        const buttonEl =\n",
              "          document.querySelector('#df-d1e018a7-aadc-4a43-9129-6f35bb5fa9c4 button.colab-df-convert');\n",
              "        buttonEl.style.display =\n",
              "          google.colab.kernel.accessAllowed ? 'block' : 'none';\n",
              "\n",
              "        async function convertToInteractive(key) {\n",
              "          const element = document.querySelector('#df-d1e018a7-aadc-4a43-9129-6f35bb5fa9c4');\n",
              "          const dataTable =\n",
              "            await google.colab.kernel.invokeFunction('convertToInteractive',\n",
              "                                                     [key], {});\n",
              "          if (!dataTable) return;\n",
              "\n",
              "          const docLinkHtml = 'Like what you see? Visit the ' +\n",
              "            '<a target=\"_blank\" href=https://colab.research.google.com/notebooks/data_table.ipynb>data table notebook</a>'\n",
              "            + ' to learn more about interactive tables.';\n",
              "          element.innerHTML = '';\n",
              "          dataTable['output_type'] = 'display_data';\n",
              "          await google.colab.output.renderOutput(dataTable, element);\n",
              "          const docLink = document.createElement('div');\n",
              "          docLink.innerHTML = docLinkHtml;\n",
              "          element.appendChild(docLink);\n",
              "        }\n",
              "      </script>\n",
              "    </div>\n",
              "  </div>\n",
              "  "
            ]
          },
          "metadata": {},
          "execution_count": 5
        }
      ],
      "source": [
        "#원본 데이터에서 Target, CRIM, RM, LSTAT만 각각 변수에 따로 가져오기\n",
        "boston_data = boston[['Target','CRIM','RM','LSTAT']]\n",
        "boston_data"
      ]
    },
    {
      "cell_type": "markdown",
      "metadata": {
        "id": "Le3JcllEUlDB"
      },
      "source": [
        "## 2. crim(범죄율)에 대한 집값을 예측하기"
      ]
    },
    {
      "cell_type": "code",
      "execution_count": 6,
      "metadata": {
        "id": "wmhxOQ9iUlDC"
      },
      "outputs": [],
      "source": [
        "#OLS(Ordinary Least Square) 가장 기본적인 회귀방법 : 잔차제곱합을 최소화하는 회귀직선 모델을 만들고 학습시키기\n",
        "model1 = smf.ols(formula='Target~CRIM',data=boston_data).fit()"
      ]
    },
    {
      "cell_type": "code",
      "execution_count": 7,
      "metadata": {
        "colab": {
          "base_uri": "https://localhost:8080/",
          "height": 452
        },
        "id": "ROalFbMaUlDC",
        "outputId": "7a62ebd7-5595-4805-f583-c270ab6cf6c3"
      },
      "outputs": [
        {
          "output_type": "execute_result",
          "data": {
            "text/plain": [
              "<class 'statsmodels.iolib.summary.Summary'>\n",
              "\"\"\"\n",
              "                            OLS Regression Results                            \n",
              "==============================================================================\n",
              "Dep. Variable:                 Target   R-squared:                       0.151\n",
              "Model:                            OLS   Adj. R-squared:                  0.149\n",
              "Method:                 Least Squares   F-statistic:                     89.49\n",
              "Date:                Fri, 30 Sep 2022   Prob (F-statistic):           1.17e-19\n",
              "Time:                        03:14:09   Log-Likelihood:                -1798.9\n",
              "No. Observations:                 506   AIC:                             3602.\n",
              "Df Residuals:                     504   BIC:                             3610.\n",
              "Df Model:                           1                                         \n",
              "Covariance Type:            nonrobust                                         \n",
              "==============================================================================\n",
              "                 coef    std err          t      P>|t|      [0.025      0.975]\n",
              "------------------------------------------------------------------------------\n",
              "Intercept     24.0331      0.409     58.740      0.000      23.229      24.837\n",
              "CRIM          -0.4152      0.044     -9.460      0.000      -0.501      -0.329\n",
              "==============================================================================\n",
              "Omnibus:                      139.832   Durbin-Watson:                   0.713\n",
              "Prob(Omnibus):                  0.000   Jarque-Bera (JB):              295.404\n",
              "Skew:                           1.490   Prob(JB):                     7.14e-65\n",
              "Kurtosis:                       5.264   Cond. No.                         10.1\n",
              "==============================================================================\n",
              "\n",
              "Notes:\n",
              "[1] Standard Errors assume that the covariance matrix of the errors is correctly specified.\n",
              "\"\"\""
            ],
            "text/html": [
              "<table class=\"simpletable\">\n",
              "<caption>OLS Regression Results</caption>\n",
              "<tr>\n",
              "  <th>Dep. Variable:</th>         <td>Target</td>      <th>  R-squared:         </th> <td>   0.151</td>\n",
              "</tr>\n",
              "<tr>\n",
              "  <th>Model:</th>                   <td>OLS</td>       <th>  Adj. R-squared:    </th> <td>   0.149</td>\n",
              "</tr>\n",
              "<tr>\n",
              "  <th>Method:</th>             <td>Least Squares</td>  <th>  F-statistic:       </th> <td>   89.49</td>\n",
              "</tr>\n",
              "<tr>\n",
              "  <th>Date:</th>             <td>Fri, 30 Sep 2022</td> <th>  Prob (F-statistic):</th> <td>1.17e-19</td>\n",
              "</tr>\n",
              "<tr>\n",
              "  <th>Time:</th>                 <td>03:14:09</td>     <th>  Log-Likelihood:    </th> <td> -1798.9</td>\n",
              "</tr>\n",
              "<tr>\n",
              "  <th>No. Observations:</th>      <td>   506</td>      <th>  AIC:               </th> <td>   3602.</td>\n",
              "</tr>\n",
              "<tr>\n",
              "  <th>Df Residuals:</th>          <td>   504</td>      <th>  BIC:               </th> <td>   3610.</td>\n",
              "</tr>\n",
              "<tr>\n",
              "  <th>Df Model:</th>              <td>     1</td>      <th>                     </th>     <td> </td>   \n",
              "</tr>\n",
              "<tr>\n",
              "  <th>Covariance Type:</th>      <td>nonrobust</td>    <th>                     </th>     <td> </td>   \n",
              "</tr>\n",
              "</table>\n",
              "<table class=\"simpletable\">\n",
              "<tr>\n",
              "      <td></td>         <th>coef</th>     <th>std err</th>      <th>t</th>      <th>P>|t|</th>  <th>[0.025</th>    <th>0.975]</th>  \n",
              "</tr>\n",
              "<tr>\n",
              "  <th>Intercept</th> <td>   24.0331</td> <td>    0.409</td> <td>   58.740</td> <td> 0.000</td> <td>   23.229</td> <td>   24.837</td>\n",
              "</tr>\n",
              "<tr>\n",
              "  <th>CRIM</th>      <td>   -0.4152</td> <td>    0.044</td> <td>   -9.460</td> <td> 0.000</td> <td>   -0.501</td> <td>   -0.329</td>\n",
              "</tr>\n",
              "</table>\n",
              "<table class=\"simpletable\">\n",
              "<tr>\n",
              "  <th>Omnibus:</th>       <td>139.832</td> <th>  Durbin-Watson:     </th> <td>   0.713</td>\n",
              "</tr>\n",
              "<tr>\n",
              "  <th>Prob(Omnibus):</th> <td> 0.000</td>  <th>  Jarque-Bera (JB):  </th> <td> 295.404</td>\n",
              "</tr>\n",
              "<tr>\n",
              "  <th>Skew:</th>          <td> 1.490</td>  <th>  Prob(JB):          </th> <td>7.14e-65</td>\n",
              "</tr>\n",
              "<tr>\n",
              "  <th>Kurtosis:</th>      <td> 5.264</td>  <th>  Cond. No.          </th> <td>    10.1</td>\n",
              "</tr>\n",
              "</table><br/><br/>Notes:<br/>[1] Standard Errors assume that the covariance matrix of the errors is correctly specified."
            ]
          },
          "metadata": {},
          "execution_count": 7
        }
      ],
      "source": [
        "model1.summary() \n",
        "\n",
        "#R-squared : y에 대해 x변수가 얼마나 설명력을 가지느냐를 나타냄 15% , 0~1사이의 값, 클수록 좋음\n",
        "#그러나 변수가 많아지면 값이 커짐으로 큰 의미가 없음\n",
        "#회귀계수(coef): CRIM 범죄율 회귀계수 값은 x(범죄율)가 1증가할 때 y는 0.4152 감소\n",
        "#p-value : 0.05보다 작고 0에 가까울 수록 유의미한 변수"
      ]
    },
    {
      "cell_type": "code",
      "execution_count": 8,
      "metadata": {
        "colab": {
          "base_uri": "https://localhost:8080/"
        },
        "id": "5ffJUounUlDD",
        "outputId": "f5b81ce2-927a-45a0-cb33-6cc8cd88b4a0"
      },
      "outputs": [
        {
          "output_type": "execute_result",
          "data": {
            "text/plain": [
              "Intercept    24.033106\n",
              "CRIM         -0.415190\n",
              "dtype: float64"
            ]
          },
          "metadata": {},
          "execution_count": 8
        }
      ],
      "source": [
        "#회귀계수 출력\n",
        "model1.params"
      ]
    },
    {
      "cell_type": "code",
      "execution_count": 9,
      "metadata": {
        "colab": {
          "base_uri": "https://localhost:8080/"
        },
        "id": "xHgH0AIwUlDD",
        "outputId": "3cd4b412-b720-4947-b836-47b956cf49d2"
      },
      "outputs": [
        {
          "output_type": "execute_result",
          "data": {
            "text/plain": [
              "array([ 24.03048217,  24.02176733,  24.02177563,  24.01966646,\n",
              "        24.00443729,  24.02071274,  23.99644902,  23.97309042,\n",
              "        23.94540138,  23.96250722,  23.93973403,  23.98433377,\n",
              "        23.99416963,  23.77163594,  23.76823138,  23.77261995,\n",
              "        23.59552468,  23.70751396,  23.69982879,  23.73176107,\n",
              "        23.51337514,  23.67934745,  23.52139661,  23.62271965,\n",
              "        23.72160552,  23.68412214,  23.75413567,  23.63627976,\n",
              "        23.71216824,  23.61689868,  23.56360486,  23.4706396 ,\n",
              "        23.45682622,  23.55492323,  23.36347899,  24.00646341,\n",
              "        23.99265003,  23.99983283,  23.96042712,  24.02163447,\n",
              "        24.01915993,  23.98019433,  23.97435675,  23.96694145,\n",
              "        23.98216648,  23.96193426,  23.95490093,  23.9379155 ,\n",
              "        23.92770182,  23.94185981,  23.99626634,  24.01509937,\n",
              "        24.01085198,  24.01242555,  24.02745959,  24.02766303,\n",
              "        24.02457401,  24.02716065,  23.96898004,  23.99022532,\n",
              "        23.97110996,  23.96181385,  23.98732314,  23.9805846 ,\n",
              "        24.02500581,  24.01822575,  24.01492499,  24.00907081,\n",
              "        23.97683128,  23.97989539,  23.99646148,  23.96719057,\n",
              "        23.99505814,  23.95198215,  24.00032275,  23.99361327,\n",
              "        23.99095191,  23.99695556,  24.00966453,  23.99828417,\n",
              "        24.0160294 ,  24.01458038,  24.01791436,  24.01836277,\n",
              "        24.0121017 ,  24.00929501,  24.0115661 ,  24.00341592,\n",
              "        24.0096064 ,  24.01109279,  24.01365866,  24.01678089,\n",
              "        24.01565573,  24.02116945,  24.0152779 ,  23.98243635,\n",
              "        23.98534268,  23.98293873,  23.99911455,  24.00462412,\n",
              "        23.97138399,  23.98564162,  23.93812725,  23.94524776,\n",
              "        23.97514561,  23.97804364,  23.9620256 ,  23.97864567,\n",
              "        23.97995351,  23.92364956,  23.98829469,  23.99123839,\n",
              "        23.98191736,  23.94088411,  23.97402045,  23.96196747,\n",
              "        23.97847544,  23.97042075,  23.97889063,  23.97300323,\n",
              "        24.0044622 ,  24.00335779,  23.99449763,  23.97066986,\n",
              "        23.99221408,  23.96293071,  23.87228222,  23.92550961,\n",
              "        23.8979908 ,  23.66721974,  23.89191657,  23.53780908,\n",
              "        23.78812315,  23.89616812,  23.62780988,  23.80152134,\n",
              "        23.89914918,  23.88682218,  23.92939164,  23.80702676,\n",
              "        23.91232732,  23.35691068,  22.6542385 ,  22.33190553,\n",
              "        22.87898515,  23.04522734,  23.13835037,  23.04967818,\n",
              "        23.06530179,  22.89798841,  23.34530196,  23.41184866,\n",
              "        23.56536111,  23.14078753,  23.4460894 ,  22.56540439,\n",
              "        23.01726842,  23.52508765,  23.47557206,  23.44145172,\n",
              "        23.50437796,  23.42553333,  23.2717427 ,  23.40242384,\n",
              "        23.1021001 ,  22.8190898 ,  23.19849483,  23.28564742,\n",
              "        23.07800246,  23.01608513,  23.53179713,  23.07239739,\n",
              "        23.9753366 ,  23.99500001,  23.99803505,  24.00543789,\n",
              "        24.00395151,  24.0105821 ,  24.00552924,  24.00910818,\n",
              "        24.00575344,  24.00450787,  23.9953114 ,  23.99155393,\n",
              "        23.99861217,  24.00799962,  24.00984721,  24.00040994,\n",
              "        23.98087939,  23.99835475,  23.99545672,  24.00441237,\n",
              "        23.99713409,  24.02402596,  24.02713159,  24.0273724 ,\n",
              "        24.01645289,  24.0137334 ,  24.0174618 ,  24.02002768,\n",
              "        24.02572409,  24.01880287,  24.02406748,  24.018533  ,\n",
              "        24.024765  ,  23.97646592,  23.93774112,  23.92848238,\n",
              "        23.97669427,  23.85220362,  23.96067208,  23.87708597,\n",
              "        23.942931  ,  23.97476364,  23.91288783,  23.9508902 ,\n",
              "        24.0141735 ,  24.00398888,  23.98714876,  23.98567068,\n",
              "        23.88443069,  23.86382895,  23.77421012,  23.77788871,\n",
              "        23.90218422,  23.81432996,  23.87444536,  23.86189001,\n",
              "        23.90930059,  23.84968341,  23.81014899,  23.84088968,\n",
              "        23.79425136,  23.89548305,  23.8471383 ,  23.89590655,\n",
              "        23.81696642,  23.82059933,  23.99887789,  23.99469277,\n",
              "        23.98606927,  23.98904618,  23.99038309,  23.98014035,\n",
              "        23.94754376,  23.95366782,  23.89201206,  23.95149222,\n",
              "        23.96485304,  23.95391693,  23.97485498,  23.94421809,\n",
              "        23.99897338,  23.87992587,  24.01309815,  24.01837522,\n",
              "        24.02672055,  23.77920071,  23.75762327,  23.76047148,\n",
              "        23.80885775,  23.81134474,  23.8171491 ,  23.69046625,\n",
              "        23.80472246,  23.71688895,  23.70689117,  23.79298503,\n",
              "        23.80869583,  23.99546918,  23.90889785,  23.96579968,\n",
              "        23.98552537,  23.94098376,  24.00967283,  23.9932313 ,\n",
              "        23.9896399 ,  24.00766747,  23.99998229,  23.94575844,\n",
              "        24.01825067,  24.01772337,  24.00765916,  24.02687417,\n",
              "        24.02934455,  24.02855569,  24.02494769,  24.01703416,\n",
              "        24.01404894,  24.01526545,  24.01856621,  24.00036427,\n",
              "        24.01809705,  23.9987907 ,  23.99906472,  23.97941377,\n",
              "        24.01080215,  23.97455189,  24.00625997,  24.01001744,\n",
              "        24.01476722,  24.01842089,  23.99463464,  23.99158715,\n",
              "        24.01020843,  24.0103579 ,  24.00195445,  24.01262899,\n",
              "        23.82842567,  23.88803869,  22.9388805 ,  23.70493563,\n",
              "        23.92445503,  23.92126222,  23.87981792,  23.92783053,\n",
              "        23.90096356,  23.93129321,  23.86619138,  23.83569565,\n",
              "        23.96352028,  23.95771177,  23.88731626,  23.91522535,\n",
              "        23.89148892,  23.95344777,  23.90710838,  23.93303286,\n",
              "        24.00563303,  24.00518878,  24.01423993,  24.01225117,\n",
              "        24.01871568,  24.01200205,  24.01758636,  24.01666049,\n",
              "        24.0188776 ,  24.02048024,  24.01937998,  24.01028316,\n",
              "        24.00756782,  24.02770455,  24.02273472,  24.02254789,\n",
              "        24.02044702,  24.0201813 ,  24.00752215,  24.02534212,\n",
              "        24.02687417,  24.02106981,  24.00731871,  24.00009855,\n",
              "        24.00302979,  24.02601057,  24.01524884,  23.98885104,\n",
              "        20.30346852,  22.43474816,  21.87338184,  22.26385169,\n",
              "        22.14734515,  22.44008751,  22.50594499,  22.2800109 ,\n",
              "        22.5906189 ,  22.14155324,  22.49816848,  18.4188202 ,\n",
              "        21.99941285,  21.6789856 ,  21.31827659,  20.19994497,\n",
              "        20.60062435,  19.42113105,  16.35283338,  15.8915985 ,\n",
              "        17.68567721,  19.95448863,  14.21460344,  16.61502604,\n",
              "       -12.90894703,  17.44220963,  20.21874479,  20.71470618,\n",
              "        15.69405096,  17.05301026,  13.90503757,  14.65100995,\n",
              "        18.08189329,  20.64858298,  21.14248918,  21.83548327,\n",
              "        19.22607466,  20.44388587,  18.4862471 ,  20.41399632,\n",
              "        21.5950881 ,  20.84775806,   8.10981167,  19.91585102,\n",
              "        13.63420895,  18.12237434,  20.04906067,  13.73568146,\n",
              "         6.79058608,  -4.16694965,  15.43194134,  19.07112564,\n",
              "        20.95908303,  18.03846438,   2.80201916,  18.19939214,\n",
              "        16.22296186,  12.13549661,   5.0397702 ,  16.52455607,\n",
              "        19.53485167,  13.26282125,  -6.49753724,  19.12875405,\n",
              "        19.42972549,  21.11739508,  19.03081067,  21.10584033,\n",
              "        20.38270343,  17.44806381,  18.9481878 ,   8.39625145,\n",
              "        20.97435373,  20.15568984,  20.50725636,  19.85533704,\n",
              "        21.35759926,  21.71590017,  18.25639776,  19.3994166 ,\n",
              "        18.04573021,  17.73168029,  18.35409203,  20.13420789,\n",
              "        14.87770384,  19.99572118,  21.68048444,  19.89509566,\n",
              "        18.71771568,  19.60227857,  21.42236064,  19.91240494,\n",
              "        20.1597587 ,  20.90837999,  21.24397414,  21.77399775,\n",
              "        21.91971708,  20.60857939,  20.08313949,  22.05996835,\n",
              "        22.09465335,  20.62830508,  20.81445565,  21.20932651,\n",
              "        22.03515658,  22.49976281,  21.27004809,  21.61622129,\n",
              "        20.77829672,  22.71961021,  22.46577118,  22.19701851,\n",
              "        17.56622696,  18.60445177,  22.22753085,  22.3563976 ,\n",
              "        22.55142493,  22.10376262,  20.68842049,  21.3787449 ,\n",
              "        22.0105441 ,  17.79553655,  19.78446406,  18.08189329,\n",
              "        21.61503384,  21.66312533,  21.65358426,  22.8629422 ,\n",
              "        23.04554703,  22.50783411,  21.66994691,  22.025383  ,\n",
              "        23.97047057,  23.95697273,  23.9469708 ,  23.98920395,\n",
              "        23.98688719,  23.96114955,  23.91703143,  23.95879127,\n",
              "        23.91286707,  23.92167741,  23.93382587,  23.95927289,\n",
              "        23.93994578,  24.00710281,  24.01431051,  24.00787921,\n",
              "        23.98760547,  24.013422  ])"
            ]
          },
          "metadata": {},
          "execution_count": 9
        }
      ],
      "source": [
        "#predict 함수를 통해 학습데이터에 대해 생성한 모델로 예측값 구하기\n",
        "pred1=model1.predict() #일반적으로 괄호 안에 X데이터 값을 넣어주나 여기에서는 생략해도 가능\n",
        "pred1"
      ]
    },
    {
      "cell_type": "markdown",
      "metadata": {
        "id": "nCDwDEHxUlDD"
      },
      "source": [
        "## 3. 시각화"
      ]
    },
    {
      "cell_type": "markdown",
      "metadata": {
        "id": "ScaaUXEJUlDE"
      },
      "source": [
        "### 3.1 적합한 직선 그리기"
      ]
    },
    {
      "cell_type": "code",
      "execution_count": 10,
      "metadata": {
        "colab": {
          "base_uri": "https://localhost:8080/",
          "height": 279
        },
        "id": "R42Pa6ZjUlDE",
        "outputId": "3603be4a-7d87-4daf-f33c-9ffb4f47f21e"
      },
      "outputs": [
        {
          "output_type": "display_data",
          "data": {
            "text/plain": [
              "<Figure size 432x288 with 1 Axes>"
            ],
            "image/png": "[encoded data removed]"
          },
          "metadata": {
            "needs_background": "light"
          }
        }
      ],
      "source": [
        "import matplotlib.pyplot as plt\n",
        "\n",
        "plt.scatter(boston_data['CRIM'],boston_data['Target'],label='data',color='red')\n",
        "plt.plot(boston_data['CRIM'], pred1,label=\"result\", color='red')\n",
        "plt.legend()  # 범례출력\n",
        "plt.xlabel(\"CRIM\")\n",
        "plt.ylabel(\"Target\")\n",
        "plt.show()"
      ]
    },
    {
      "cell_type": "markdown",
      "metadata": {
        "id": "vUx7SetvUlDE"
      },
      "source": [
        "### 3.2 실제값과 예측값 비교"
      ]
    },
    {
      "cell_type": "code",
      "execution_count": 11,
      "metadata": {
        "colab": {
          "base_uri": "https://localhost:8080/",
          "height": 280
        },
        "id": "oXheX1FpUlDE",
        "outputId": "2ec3dbf3-259a-4af9-ec24-cd6c49854ced"
      },
      "outputs": [
        {
          "output_type": "display_data",
          "data": {
            "text/plain": [
              "<Figure size 432x288 with 1 Axes>"
            ],
            "image/png": "[encoded data removed]"
          },
          "metadata": {
            "needs_background": "light"
          }
        }
      ],
      "source": [
        "plt.scatter(boston_data['Target'],pred1)\n",
        "plt.xlabel(\"real_value\")\n",
        "plt.ylabel(\"pred_value\")\n",
        "plt.show()"
      ]
    },
    {
      "cell_type": "markdown",
      "metadata": {
        "id": "KbcaWv2QUlDF"
      },
      "source": [
        "### 3.3 잔차 시각화"
      ]
    },
    {
      "cell_type": "code",
      "execution_count": 12,
      "metadata": {
        "colab": {
          "base_uri": "https://localhost:8080/"
        },
        "id": "0bfdDBGLUlDF",
        "outputId": "8c2aa1cb-e14d-4cf3-fc8f-b2ca4a7331f9"
      },
      "outputs": [
        {
          "output_type": "execute_result",
          "data": {
            "text/plain": [
              "0      -0.030482\n",
              "1      -2.421767\n",
              "2      10.678224\n",
              "3       9.380334\n",
              "4      12.195563\n",
              "         ...    \n",
              "501    -1.607103\n",
              "502    -3.414311\n",
              "503    -0.107879\n",
              "504    -1.987605\n",
              "505   -12.113422\n",
              "Length: 506, dtype: float64"
            ]
          },
          "metadata": {},
          "execution_count": 12
        }
      ],
      "source": [
        "#잔차\n",
        "model1.resid"
      ]
    },
    {
      "cell_type": "code",
      "execution_count": 13,
      "metadata": {
        "colab": {
          "base_uri": "https://localhost:8080/",
          "height": 280
        },
        "id": "zxYuC0bLUlDF",
        "outputId": "1c29b17a-23e3-4828-e29a-ddcb7c2c223f"
      },
      "outputs": [
        {
          "output_type": "display_data",
          "data": {
            "text/plain": [
              "<Figure size 432x288 with 1 Axes>"
            ],
            "image/png": "[encoded data removed]"
          },
          "metadata": {
            "needs_background": "light"
          }
        }
      ],
      "source": [
        "# residual 시각화\n",
        "model1.resid.plot()\n",
        "plt.xlabel(\"residual_number\")\n",
        "plt.show()\n",
        "#잔차가 균일하지 않아 범죄율로 보스톤 집값을 예측하기에는 무리가 있다."
      ]
    },
    {
      "cell_type": "code",
      "execution_count": 14,
      "metadata": {
        "colab": {
          "base_uri": "https://localhost:8080/"
        },
        "id": "rHcfujFmUlDF",
        "outputId": "896a020f-ff75-49e6-919a-a2e825b64846"
      },
      "outputs": [
        {
          "output_type": "execute_result",
          "data": {
            "text/plain": [
              "-3.693045869113121e-12"
            ]
          },
          "metadata": {},
          "execution_count": 14
        }
      ],
      "source": [
        "##잔차의 합계산해보기, 잔차의 합은 0에 수렴\n",
        "## SSE가 최소가 되게끔 직선을 그음으로 잔차의 합이 0이 되는 조건을 만족하도록 회귀 직선을 그음으로 \n",
        "\n",
        "sum(model1.resid)"
      ]
    },
    {
      "cell_type": "markdown",
      "metadata": {
        "id": "1MlYPKBsUlDF"
      },
      "source": [
        "### 3.4 생성한 모델로 새로운 데이터에 대해 예측하기"
      ]
    },
    {
      "cell_type": "code",
      "execution_count": 15,
      "metadata": {
        "colab": {
          "base_uri": "https://localhost:8080/",
          "height": 175
        },
        "id": "wWsKlS7CUlDG",
        "outputId": "ab59e049-e446-49db-cd35-d61b5a834ee7"
      },
      "outputs": [
        {
          "output_type": "execute_result",
          "data": {
            "text/plain": [
              "   CRIM\n",
              "0  0.06\n",
              "1  0.03\n",
              "2  0.02\n",
              "3  0.05"
            ],
            "text/html": [
              "\n",
              "  <div id=\"df-d99cd91e-af4c-497c-b3ff-d0b821d3677a\">\n",
              "    <div class=\"colab-df-container\">\n",
              "      <div>\n",
              "<style scoped>\n",
              "    .dataframe tbody tr th:only-of-type {\n",
              "        vertical-align: middle;\n",
              "    }\n",
              "\n",
              "    .dataframe tbody tr th {\n",
              "        vertical-align: top;\n",
              "    }\n",
              "\n",
              "    .dataframe thead th {\n",
              "        text-align: right;\n",
              "    }\n",
              "</style>\n",
              "<table border=\"1\" class=\"dataframe\">\n",
              "  <thead>\n",
              "    <tr style=\"text-align: right;\">\n",
              "      <th></th>\n",
              "      <th>CRIM</th>\n",
              "    </tr>\n",
              "  </thead>\n",
              "  <tbody>\n",
              "    <tr>\n",
              "      <th>0</th>\n",
              "      <td>0.06</td>\n",
              "    </tr>\n",
              "    <tr>\n",
              "      <th>1</th>\n",
              "      <td>0.03</td>\n",
              "    </tr>\n",
              "    <tr>\n",
              "      <th>2</th>\n",
              "      <td>0.02</td>\n",
              "    </tr>\n",
              "    <tr>\n",
              "      <th>3</th>\n",
              "      <td>0.05</td>\n",
              "    </tr>\n",
              "  </tbody>\n",
              "</table>\n",
              "</div>\n",
              "      <button class=\"colab-df-convert\" onclick=\"convertToInteractive('df-d99cd91e-af4c-497c-b3ff-d0b821d3677a')\"\n",
              "              title=\"Convert this dataframe to an interactive table.\"\n",
              "              style=\"display:none;\">\n",
              "        \n",
              "  <svg xmlns=\"http://www.w3.org/2000/svg\" height=\"24px\"viewBox=\"0 0 24 24\"\n",
              "       width=\"24px\">\n",
              "    <path d=\"M0 0h24v24H0V0z\" fill=\"none\"/>\n",
              "    <path d=\"M18.56 5.44l.94 2.06.94-2.06 2.06-.94-2.06-.94-.94-2.06-.94 2.06-2.06.94zm-11 1L8.5 8.5l.94-2.06 2.06-.94-2.06-.94L8.5 2.5l-.94 2.06-2.06.94zm10 10l.94 2.06.94-2.06 2.06-.94-2.06-.94-.94-2.06-.94 2.06-2.06.94z\"/><path d=\"M17.41 7.96l-1.37-1.37c-.4-.4-.92-.59-1.43-.59-.52 0-1.04.2-1.43.59L10.3 9.45l-7.72 7.72c-.78.78-.78 2.05 0 2.83L4 21.41c.39.39.9.59 1.41.59.51 0 1.02-.2 1.41-.59l7.78-7.78 2.81-2.81c.8-.78.8-2.07 0-2.86zM5.41 20L4 18.59l7.72-7.72 1.47 1.35L5.41 20z\"/>\n",
              "  </svg>\n",
              "      </button>\n",
              "      \n",
              "  <style>\n",
              "    .colab-df-container {\n",
              "      display:flex;\n",
              "      flex-wrap:wrap;\n",
              "      gap: 12px;\n",
              "    }\n",
              "\n",
              "    .colab-df-convert {\n",
              "      background-color: #E8F0FE;\n",
              "      border: none;\n",
              "      border-radius: 50%;\n",
              "      cursor: pointer;\n",
              "      display: none;\n",
              "      fill: #1967D2;\n",
              "      height: 32px;\n",
              "      padding: 0 0 0 0;\n",
              "      width: 32px;\n",
              "    }\n",
              "\n",
              "    .colab-df-convert:hover {\n",
              "      background-color: #E2EBFA;\n",
              "      box-shadow: 0px 1px 2px rgba(60, 64, 67, 0.3), 0px 1px 3px 1px rgba(60, 64, 67, 0.15);\n",
              "      fill: #174EA6;\n",
              "    }\n",
              "\n",
              "    [theme=dark] .colab-df-convert {\n",
              "      background-color: #3B4455;\n",
              "      fill: #D2E3FC;\n",
              "    }\n",
              "\n",
              "    [theme=dark] .colab-df-convert:hover {\n",
              "      background-color: #434B5C;\n",
              "      box-shadow: 0px 1px 3px 1px rgba(0, 0, 0, 0.15);\n",
              "      filter: drop-shadow(0px 1px 2px rgba(0, 0, 0, 0.3));\n",
              "      fill: #FFFFFF;\n",
              "    }\n",
              "  </style>\n",
              "\n",
              "      <script>\n",
              "        const buttonEl =\n",
              "          document.querySelector('#df-d99cd91e-af4c-497c-b3ff-d0b821d3677a button.colab-df-convert');\n",
              "        buttonEl.style.display =\n",
              "          google.colab.kernel.accessAllowed ? 'block' : 'none';\n",
              "\n",
              "        async function convertToInteractive(key) {\n",
              "          const element = document.querySelector('#df-d99cd91e-af4c-497c-b3ff-d0b821d3677a');\n",
              "          const dataTable =\n",
              "            await google.colab.kernel.invokeFunction('convertToInteractive',\n",
              "                                                     [key], {});\n",
              "          if (!dataTable) return;\n",
              "\n",
              "          const docLinkHtml = 'Like what you see? Visit the ' +\n",
              "            '<a target=\"_blank\" href=https://colab.research.google.com/notebooks/data_table.ipynb>data table notebook</a>'\n",
              "            + ' to learn more about interactive tables.';\n",
              "          element.innerHTML = '';\n",
              "          dataTable['output_type'] = 'display_data';\n",
              "          await google.colab.output.renderOutput(dataTable, element);\n",
              "          const docLink = document.createElement('div');\n",
              "          docLink.innerHTML = docLinkHtml;\n",
              "          element.appendChild(docLink);\n",
              "        }\n",
              "      </script>\n",
              "    </div>\n",
              "  </div>\n",
              "  "
            ]
          },
          "metadata": {},
          "execution_count": 15
        }
      ],
      "source": [
        "new_crim = pd.DataFrame({'CRIM':[0.06,0.03,0.02, 0.05]})\n",
        "new_crim"
      ]
    },
    {
      "cell_type": "code",
      "execution_count": 16,
      "metadata": {
        "colab": {
          "base_uri": "https://localhost:8080/"
        },
        "id": "aV55FU7LUlDG",
        "outputId": "fb5d1fab-bea2-4999-acc9-12a46fb6d58d"
      },
      "outputs": [
        {
          "output_type": "stream",
          "name": "stdout",
          "text": [
            "0    24.008195\n",
            "1    24.020650\n",
            "2    24.024802\n",
            "3    24.012347\n",
            "dtype: float64\n"
          ]
        }
      ],
      "source": [
        "new_result = model1.predict(new_crim)\n",
        "print(new_result)"
      ]
    },
    {
      "cell_type": "markdown",
      "metadata": {
        "id": "X5GH3bYmUlDG"
      },
      "source": [
        "## 4. 위와 동일하게 RM(주택당 방 수)과 LSTAT(인구 중 하위 계층 비율)로 회귀모델 model2, model3로 각각 단순선형회귀 해보기"
      ]
    },
    {
      "cell_type": "markdown",
      "metadata": {
        "id": "6x8LzcmGUlDG"
      },
      "source": [
        "### 4-1 회귀모델 생성하고 학습 시키기"
      ]
    },
    {
      "cell_type": "code",
      "execution_count": 17,
      "metadata": {
        "id": "Y7trJMWOUlDG"
      },
      "outputs": [],
      "source": [
        "#회귀모델 생성하고 학습시키기\n",
        "# model2는 formula='Target~RM' , model3는 formula='Target~LSTAT'\n",
        "\n",
        "model2 = smf.ols(formula = 'Target~RM',data=boston_data).fit()\n",
        "model3 = smf.ols(formula='Target~LSTAT',data = boston_data).fit()"
      ]
    },
    {
      "cell_type": "code",
      "execution_count": 18,
      "metadata": {
        "colab": {
          "base_uri": "https://localhost:8080/",
          "height": 452
        },
        "id": "7yw3KVw3UlDG",
        "outputId": "4be66072-7fb1-4825-8fa6-e1df9cec0a85"
      },
      "outputs": [
        {
          "output_type": "execute_result",
          "data": {
            "text/plain": [
              "<class 'statsmodels.iolib.summary.Summary'>\n",
              "\"\"\"\n",
              "                            OLS Regression Results                            \n",
              "==============================================================================\n",
              "Dep. Variable:                 Target   R-squared:                       0.484\n",
              "Model:                            OLS   Adj. R-squared:                  0.483\n",
              "Method:                 Least Squares   F-statistic:                     471.8\n",
              "Date:                Fri, 30 Sep 2022   Prob (F-statistic):           2.49e-74\n",
              "Time:                        03:33:43   Log-Likelihood:                -1673.1\n",
              "No. Observations:                 506   AIC:                             3350.\n",
              "Df Residuals:                     504   BIC:                             3359.\n",
              "Df Model:                           1                                         \n",
              "Covariance Type:            nonrobust                                         \n",
              "==============================================================================\n",
              "                 coef    std err          t      P>|t|      [0.025      0.975]\n",
              "------------------------------------------------------------------------------\n",
              "Intercept    -34.6706      2.650    -13.084      0.000     -39.877     -29.465\n",
              "RM             9.1021      0.419     21.722      0.000       8.279       9.925\n",
              "==============================================================================\n",
              "Omnibus:                      102.585   Durbin-Watson:                   0.684\n",
              "Prob(Omnibus):                  0.000   Jarque-Bera (JB):              612.449\n",
              "Skew:                           0.726   Prob(JB):                    1.02e-133\n",
              "Kurtosis:                       8.190   Cond. No.                         58.4\n",
              "==============================================================================\n",
              "\n",
              "Notes:\n",
              "[1] Standard Errors assume that the covariance matrix of the errors is correctly specified.\n",
              "\"\"\""
            ],
            "text/html": [
              "<table class=\"simpletable\">\n",
              "<caption>OLS Regression Results</caption>\n",
              "<tr>\n",
              "  <th>Dep. Variable:</th>         <td>Target</td>      <th>  R-squared:         </th> <td>   0.484</td>\n",
              "</tr>\n",
              "<tr>\n",
              "  <th>Model:</th>                   <td>OLS</td>       <th>  Adj. R-squared:    </th> <td>   0.483</td>\n",
              "</tr>\n",
              "<tr>\n",
              "  <th>Method:</th>             <td>Least Squares</td>  <th>  F-statistic:       </th> <td>   471.8</td>\n",
              "</tr>\n",
              "<tr>\n",
              "  <th>Date:</th>             <td>Fri, 30 Sep 2022</td> <th>  Prob (F-statistic):</th> <td>2.49e-74</td>\n",
              "</tr>\n",
              "<tr>\n",
              "  <th>Time:</th>                 <td>03:33:43</td>     <th>  Log-Likelihood:    </th> <td> -1673.1</td>\n",
              "</tr>\n",
              "<tr>\n",
              "  <th>No. Observations:</th>      <td>   506</td>      <th>  AIC:               </th> <td>   3350.</td>\n",
              "</tr>\n",
              "<tr>\n",
              "  <th>Df Residuals:</th>          <td>   504</td>      <th>  BIC:               </th> <td>   3359.</td>\n",
              "</tr>\n",
              "<tr>\n",
              "  <th>Df Model:</th>              <td>     1</td>      <th>                     </th>     <td> </td>   \n",
              "</tr>\n",
              "<tr>\n",
              "  <th>Covariance Type:</th>      <td>nonrobust</td>    <th>                     </th>     <td> </td>   \n",
              "</tr>\n",
              "</table>\n",
              "<table class=\"simpletable\">\n",
              "<tr>\n",
              "      <td></td>         <th>coef</th>     <th>std err</th>      <th>t</th>      <th>P>|t|</th>  <th>[0.025</th>    <th>0.975]</th>  \n",
              "</tr>\n",
              "<tr>\n",
              "  <th>Intercept</th> <td>  -34.6706</td> <td>    2.650</td> <td>  -13.084</td> <td> 0.000</td> <td>  -39.877</td> <td>  -29.465</td>\n",
              "</tr>\n",
              "<tr>\n",
              "  <th>RM</th>        <td>    9.1021</td> <td>    0.419</td> <td>   21.722</td> <td> 0.000</td> <td>    8.279</td> <td>    9.925</td>\n",
              "</tr>\n",
              "</table>\n",
              "<table class=\"simpletable\">\n",
              "<tr>\n",
              "  <th>Omnibus:</th>       <td>102.585</td> <th>  Durbin-Watson:     </th> <td>   0.684</td> \n",
              "</tr>\n",
              "<tr>\n",
              "  <th>Prob(Omnibus):</th> <td> 0.000</td>  <th>  Jarque-Bera (JB):  </th> <td> 612.449</td> \n",
              "</tr>\n",
              "<tr>\n",
              "  <th>Skew:</th>          <td> 0.726</td>  <th>  Prob(JB):          </th> <td>1.02e-133</td>\n",
              "</tr>\n",
              "<tr>\n",
              "  <th>Kurtosis:</th>      <td> 8.190</td>  <th>  Cond. No.          </th> <td>    58.4</td> \n",
              "</tr>\n",
              "</table><br/><br/>Notes:<br/>[1] Standard Errors assume that the covariance matrix of the errors is correctly specified."
            ]
          },
          "metadata": {},
          "execution_count": 18
        }
      ],
      "source": [
        "#model2(RM)모델 요약 결과 출력\n",
        "model2.summary()"
      ]
    },
    {
      "cell_type": "code",
      "execution_count": 19,
      "metadata": {
        "colab": {
          "base_uri": "https://localhost:8080/",
          "height": 452
        },
        "id": "KsLkmOa0UlDH",
        "outputId": "1ade79a9-19db-453e-f6dc-bc2f3017a72a"
      },
      "outputs": [
        {
          "output_type": "execute_result",
          "data": {
            "text/plain": [
              "<class 'statsmodels.iolib.summary.Summary'>\n",
              "\"\"\"\n",
              "                            OLS Regression Results                            \n",
              "==============================================================================\n",
              "Dep. Variable:                 Target   R-squared:                       0.544\n",
              "Model:                            OLS   Adj. R-squared:                  0.543\n",
              "Method:                 Least Squares   F-statistic:                     601.6\n",
              "Date:                Fri, 30 Sep 2022   Prob (F-statistic):           5.08e-88\n",
              "Time:                        03:33:46   Log-Likelihood:                -1641.5\n",
              "No. Observations:                 506   AIC:                             3287.\n",
              "Df Residuals:                     504   BIC:                             3295.\n",
              "Df Model:                           1                                         \n",
              "Covariance Type:            nonrobust                                         \n",
              "==============================================================================\n",
              "                 coef    std err          t      P>|t|      [0.025      0.975]\n",
              "------------------------------------------------------------------------------\n",
              "Intercept     34.5538      0.563     61.415      0.000      33.448      35.659\n",
              "LSTAT         -0.9500      0.039    -24.528      0.000      -1.026      -0.874\n",
              "==============================================================================\n",
              "Omnibus:                      137.043   Durbin-Watson:                   0.892\n",
              "Prob(Omnibus):                  0.000   Jarque-Bera (JB):              291.373\n",
              "Skew:                           1.453   Prob(JB):                     5.36e-64\n",
              "Kurtosis:                       5.319   Cond. No.                         29.7\n",
              "==============================================================================\n",
              "\n",
              "Notes:\n",
              "[1] Standard Errors assume that the covariance matrix of the errors is correctly specified.\n",
              "\"\"\""
            ],
            "text/html": [
              "<table class=\"simpletable\">\n",
              "<caption>OLS Regression Results</caption>\n",
              "<tr>\n",
              "  <th>Dep. Variable:</th>         <td>Target</td>      <th>  R-squared:         </th> <td>   0.544</td>\n",
              "</tr>\n",
              "<tr>\n",
              "  <th>Model:</th>                   <td>OLS</td>       <th>  Adj. R-squared:    </th> <td>   0.543</td>\n",
              "</tr>\n",
              "<tr>\n",
              "  <th>Method:</th>             <td>Least Squares</td>  <th>  F-statistic:       </th> <td>   601.6</td>\n",
              "</tr>\n",
              "<tr>\n",
              "  <th>Date:</th>             <td>Fri, 30 Sep 2022</td> <th>  Prob (F-statistic):</th> <td>5.08e-88</td>\n",
              "</tr>\n",
              "<tr>\n",
              "  <th>Time:</th>                 <td>03:33:46</td>     <th>  Log-Likelihood:    </th> <td> -1641.5</td>\n",
              "</tr>\n",
              "<tr>\n",
              "  <th>No. Observations:</th>      <td>   506</td>      <th>  AIC:               </th> <td>   3287.</td>\n",
              "</tr>\n",
              "<tr>\n",
              "  <th>Df Residuals:</th>          <td>   504</td>      <th>  BIC:               </th> <td>   3295.</td>\n",
              "</tr>\n",
              "<tr>\n",
              "  <th>Df Model:</th>              <td>     1</td>      <th>                     </th>     <td> </td>   \n",
              "</tr>\n",
              "<tr>\n",
              "  <th>Covariance Type:</th>      <td>nonrobust</td>    <th>                     </th>     <td> </td>   \n",
              "</tr>\n",
              "</table>\n",
              "<table class=\"simpletable\">\n",
              "<tr>\n",
              "      <td></td>         <th>coef</th>     <th>std err</th>      <th>t</th>      <th>P>|t|</th>  <th>[0.025</th>    <th>0.975]</th>  \n",
              "</tr>\n",
              "<tr>\n",
              "  <th>Intercept</th> <td>   34.5538</td> <td>    0.563</td> <td>   61.415</td> <td> 0.000</td> <td>   33.448</td> <td>   35.659</td>\n",
              "</tr>\n",
              "<tr>\n",
              "  <th>LSTAT</th>     <td>   -0.9500</td> <td>    0.039</td> <td>  -24.528</td> <td> 0.000</td> <td>   -1.026</td> <td>   -0.874</td>\n",
              "</tr>\n",
              "</table>\n",
              "<table class=\"simpletable\">\n",
              "<tr>\n",
              "  <th>Omnibus:</th>       <td>137.043</td> <th>  Durbin-Watson:     </th> <td>   0.892</td>\n",
              "</tr>\n",
              "<tr>\n",
              "  <th>Prob(Omnibus):</th> <td> 0.000</td>  <th>  Jarque-Bera (JB):  </th> <td> 291.373</td>\n",
              "</tr>\n",
              "<tr>\n",
              "  <th>Skew:</th>          <td> 1.453</td>  <th>  Prob(JB):          </th> <td>5.36e-64</td>\n",
              "</tr>\n",
              "<tr>\n",
              "  <th>Kurtosis:</th>      <td> 5.319</td>  <th>  Cond. No.          </th> <td>    29.7</td>\n",
              "</tr>\n",
              "</table><br/><br/>Notes:<br/>[1] Standard Errors assume that the covariance matrix of the errors is correctly specified."
            ]
          },
          "metadata": {},
          "execution_count": 19
        }
      ],
      "source": [
        "#model3(lstat) 모델 요약 결과 출력\n",
        "model3.summary()"
      ]
    },
    {
      "cell_type": "markdown",
      "metadata": {
        "id": "nhG-IoaqUlDH"
      },
      "source": [
        "## -------------------------------------------------------------------------------------------------------------------------------\n",
        "## Q.1. 집값에 대한 RM(주택당 방 수) 변수와 LSTAT(인구 중 하위 계층 비율)의 설명력은 각각 몇 %인가?"
      ]
    },
    {
      "cell_type": "code",
      "source": [
        "RM은 48% LSTAT은 "
      ],
      "metadata": {
        "id": "E_XNI_nuePNO"
      },
      "execution_count": null,
      "outputs": []
    },
    {
      "cell_type": "markdown",
      "metadata": {
        "id": "HDFIjMxHUlDH"
      },
      "source": [
        "**굵은 텍스트**## A.1. "
      ]
    },
    {
      "cell_type": "markdown",
      "metadata": {
        "id": "EBm6vGZxUlDH"
      },
      "source": [
        "## Q.2. RM 변수와 LSTAT 변수가 1단위 증가할 때 집값은 각각 몇 단위 증가 또는 감소 하는가?"
      ]
    },
    {
      "cell_type": "code",
      "source": [
        "9.1 증가  -0.9감소"
      ],
      "metadata": {
        "id": "t6AExkQPeWdu"
      },
      "execution_count": null,
      "outputs": []
    },
    {
      "cell_type": "markdown",
      "metadata": {
        "id": "DLgZ0o0cUlDH"
      },
      "source": [
        "## A.2."
      ]
    },
    {
      "cell_type": "markdown",
      "metadata": {
        "id": "IBSiUzD4UlDH"
      },
      "source": [
        "## Q.3. CRIM, RM, LSTAT 중 집값에 더 영향을 미치는 요인은 무엇인가? "
      ]
    },
    {
      "cell_type": "markdown",
      "metadata": {
        "id": "CFM4ivdYUlDH"
      },
      "source": [
        "## A.3. "
      ]
    },
    {
      "cell_type": "markdown",
      "metadata": {
        "id": "OJW5ekyVUlDH"
      },
      "source": [
        "## Q.4. 세 개의 변수 중 하나의 변수만 선택하여 회귀분석에 사용한다면 어떤 변수를 사용해야 하는가?\n"
      ]
    },
    {
      "cell_type": "code",
      "source": [],
      "metadata": {
        "id": "r43acEbRekUW"
      },
      "execution_count": null,
      "outputs": []
    },
    {
      "cell_type": "code",
      "source": [
        "LSTAT"
      ],
      "metadata": {
        "id": "hyTST9poed9Q"
      },
      "execution_count": null,
      "outputs": []
    },
    {
      "cell_type": "markdown",
      "metadata": {
        "id": "cJ3xNlvhUlDH"
      },
      "source": [
        "## A.4."
      ]
    },
    {
      "cell_type": "markdown",
      "metadata": {
        "id": "ZgB8cl3zUlDI"
      },
      "source": [
        "## -------------------------------------------------------------------------------------------------------------------------------"
      ]
    },
    {
      "cell_type": "code",
      "execution_count": 21,
      "metadata": {
        "colab": {
          "base_uri": "https://localhost:8080/"
        },
        "id": "hy8jxMxLUlDI",
        "outputId": "ca21a1eb-9910-405d-e3df-cf8e8d7487b5"
      },
      "outputs": [
        {
          "output_type": "stream",
          "name": "stdout",
          "text": [
            "Intercept    24.033106\n",
            "CRIM         -0.415190\n",
            "dtype: float64\n",
            "Intercept   -34.670621\n",
            "RM            9.102109\n",
            "dtype: float64\n",
            "Intercept    34.553841\n",
            "LSTAT        -0.950049\n",
            "dtype: float64\n"
          ]
        }
      ],
      "source": [
        "# model1, model2, model3의 회귀계수 출력해 보기, .params 사용\n",
        "print(model1.params)\n",
        "print(model2.params)\n",
        "print(model3.params)\n"
      ]
    },
    {
      "cell_type": "markdown",
      "metadata": {
        "id": "odprVNj0UlDI"
      },
      "source": [
        "### 4-2 model2(RM: 주택당 방수)와 model3(LSTAT: 인구중 하위계층 비율)로 집값 예측하기"
      ]
    },
    {
      "cell_type": "code",
      "execution_count": 22,
      "metadata": {
        "id": "pHZt-pSeUlDI"
      },
      "outputs": [],
      "source": [
        "# model2와 model3 각각 모델로 예측한 값을 pre2, pre3에 저장하기 predict() 사용\n",
        "\n",
        "pred2=model2.predict()\n",
        "pred3=model3.predict()"
      ]
    },
    {
      "cell_type": "markdown",
      "metadata": {
        "id": "5CP4JZnLUlDI"
      },
      "source": [
        "### 4-3 시각화"
      ]
    },
    {
      "cell_type": "markdown",
      "metadata": {
        "id": "QSYhsp9_UlDI"
      },
      "source": [
        "#### 1) 적합한 직선그리기"
      ]
    },
    {
      "cell_type": "code",
      "execution_count": 23,
      "metadata": {
        "colab": {
          "base_uri": "https://localhost:8080/",
          "height": 279
        },
        "id": "Ud0bJf38UlDI",
        "outputId": "eec60d3b-d603-40ad-9f7b-ee08568249cc"
      },
      "outputs": [
        {
          "output_type": "display_data",
          "data": {
            "text/plain": [
              "<Figure size 432x288 with 1 Axes>"
            ],
            "image/png": "[encoded data removed]"
          },
          "metadata": {
            "needs_background": "light"
          }
        }
      ],
      "source": [
        "# model2의 예측 직선과 데이터 산점도 그래프로 나타내기 (color='blue'로 나타내기)\n",
        "\n",
        "import matplotlib.pyplot as plt\n",
        "plt.scatter(boston_data['RM'],boston_data['Target'],label=\"data\",color='blue')\n",
        "plt.plot(boston_data['RM'], pred2,label=\"result\", color='blue')\n",
        "\n",
        "\n",
        "plt.legend()  # 범례출력\n",
        "plt.xlabel(\"RM\")\n",
        "plt.ylabel(\"Target\")\n",
        "plt.show()"
      ]
    },
    {
      "cell_type": "code",
      "execution_count": 24,
      "metadata": {
        "colab": {
          "base_uri": "https://localhost:8080/",
          "height": 279
        },
        "id": "W5NZTTx4UlDI",
        "outputId": "a27f55b5-c69c-4550-cd8f-bd8d1de21ee0"
      },
      "outputs": [
        {
          "output_type": "display_data",
          "data": {
            "text/plain": [
              "<Figure size 432x288 with 1 Axes>"
            ],
            "image/png": "[encoded data removed]"
          },
          "metadata": {
            "needs_background": "light"
          }
        }
      ],
      "source": [
        "# model3의 예측 직선과 데이터 산점도 그래프로 나타내기 (color='green'로 나타내기)\n",
        "\n",
        "import matplotlib.pyplot as plt\n",
        "plt.scatter(boston_data['LSTAT'],boston_data['Target'],label=\"data\",color='green')\n",
        "plt.plot(boston_data['LSTAT'], pred3,label=\"result\", color='green')\n",
        "\n",
        "\n",
        "plt.legend()  # 범례출력\n",
        "plt.xlabel(\"LSTAT\")\n",
        "plt.ylabel(\"Target\")\n",
        "plt.show()"
      ]
    },
    {
      "cell_type": "markdown",
      "source": [],
      "metadata": {
        "id": "BYMGx27pgB8O"
      }
    },
    {
      "cell_type": "markdown",
      "metadata": {
        "id": "eaoL3bcUUlDJ"
      },
      "source": [
        "#### 2) 잔차 시각화하기"
      ]
    },
    {
      "cell_type": "code",
      "execution_count": 25,
      "metadata": {
        "colab": {
          "base_uri": "https://localhost:8080/",
          "height": 280
        },
        "id": "qMqZ2TahUlDJ",
        "outputId": "301b8be0-7a11-4743-9d9e-cad7e7f94928"
      },
      "outputs": [
        {
          "output_type": "display_data",
          "data": {
            "text/plain": [
              "<Figure size 432x288 with 1 Axes>"
            ],
            "image/png": "[encoded data removed]"
          },
          "metadata": {
            "needs_background": "light"
          }
        }
      ],
      "source": [
        "# model2 (rm모델)의 잔차(residual) 시각화 하기\n",
        "\n",
        "model2.resid.plot()\n",
        "plt.xlabel(\"residual_number\")\n",
        "plt.show()"
      ]
    },
    {
      "cell_type": "code",
      "execution_count": 26,
      "metadata": {
        "colab": {
          "base_uri": "https://localhost:8080/",
          "height": 280
        },
        "id": "J9wUQiTEUlDJ",
        "outputId": "e76e029b-925b-4426-a0c3-0c1008c679d4"
      },
      "outputs": [
        {
          "output_type": "display_data",
          "data": {
            "text/plain": [
              "<Figure size 432x288 with 1 Axes>"
            ],
            "image/png": "[encoded data removed]"
          },
          "metadata": {
            "needs_background": "light"
          }
        }
      ],
      "source": [
        "# model 3(Istat 모델)의 잔차(residual) 시각화 하기\n",
        "model3.resid.plot()\n",
        "plt.xlabel(\"residual_number\")\n",
        "plt.show()"
      ]
    },
    {
      "cell_type": "code",
      "execution_count": 27,
      "metadata": {
        "colab": {
          "base_uri": "https://localhost:8080/",
          "height": 283
        },
        "id": "y2nsnxnOUlDJ",
        "outputId": "2f7756b9-edb8-4755-8eff-c37557637299"
      },
      "outputs": [
        {
          "output_type": "execute_result",
          "data": {
            "text/plain": [
              "<matplotlib.legend.Legend at 0x7f2a9a316d90>"
            ]
          },
          "metadata": {},
          "execution_count": 27
        },
        {
          "output_type": "display_data",
          "data": {
            "text/plain": [
              "<Figure size 432x288 with 1 Axes>"
            ],
            "image/png": "[encoded data removed]"
          },
          "metadata": {
            "needs_background": "light"
          }
        }
      ],
      "source": [
        "#세 모델의 residual 비교\n",
        "model1.resid.plot(label=\"crim\")\n",
        "model2.resid.plot(label=\"rm\")\n",
        "model3.resid.plot(label=\"lstat\")\n",
        "plt.legend()\n",
        "#잔차가 0주변으로 몰려있음"
      ]
    },
    {
      "cell_type": "markdown",
      "metadata": {
        "id": "CcCjDREXUlDJ"
      },
      "source": [
        "## Q.5. 세 모델 중 잔차가 가장 균등하고 작은 모델은 무엇인가?\n",
        "## A.5"
      ]
    },
    {
      "cell_type": "markdown",
      "metadata": {
        "id": "Xha4rJ2gUlDJ"
      },
      "source": [
        "# 보스톤 집값 예측하기(다중선형회귀)"
      ]
    },
    {
      "cell_type": "code",
      "execution_count": 28,
      "metadata": {
        "id": "cCAOKr7gUlDJ"
      },
      "outputs": [],
      "source": [
        "#OLS(Ordinary Least Square) 가장 기본적인 회귀방법 : 잔차제곱합을 최소화하는 회귀직선 모델을 만들고 학습시키기\n",
        "multi_model = smf.ols(formula='Target ~ CRIM + RM + LSTAT',data=boston_data).fit()"
      ]
    },
    {
      "cell_type": "code",
      "execution_count": 29,
      "metadata": {
        "colab": {
          "base_uri": "https://localhost:8080/",
          "height": 494
        },
        "id": "_aURl8dkUlDK",
        "outputId": "7e8f9564-890d-4bf4-cc43-4e12b3fdb8ff"
      },
      "outputs": [
        {
          "output_type": "execute_result",
          "data": {
            "text/plain": [
              "<class 'statsmodels.iolib.summary.Summary'>\n",
              "\"\"\"\n",
              "                            OLS Regression Results                            \n",
              "==============================================================================\n",
              "Dep. Variable:                 Target   R-squared:                       0.646\n",
              "Model:                            OLS   Adj. R-squared:                  0.644\n",
              "Method:                 Least Squares   F-statistic:                     305.2\n",
              "Date:                Fri, 30 Sep 2022   Prob (F-statistic):          1.01e-112\n",
              "Time:                        03:47:42   Log-Likelihood:                -1577.6\n",
              "No. Observations:                 506   AIC:                             3163.\n",
              "Df Residuals:                     502   BIC:                             3180.\n",
              "Df Model:                           3                                         \n",
              "Covariance Type:            nonrobust                                         \n",
              "==============================================================================\n",
              "                 coef    std err          t      P>|t|      [0.025      0.975]\n",
              "------------------------------------------------------------------------------\n",
              "Intercept     -2.5623      3.166     -0.809      0.419      -8.783       3.658\n",
              "CRIM          -0.1029      0.032     -3.215      0.001      -0.166      -0.040\n",
              "RM             5.2170      0.442     11.802      0.000       4.348       6.085\n",
              "LSTAT         -0.5785      0.048    -12.135      0.000      -0.672      -0.485\n",
              "==============================================================================\n",
              "Omnibus:                      171.754   Durbin-Watson:                   0.822\n",
              "Prob(Omnibus):                  0.000   Jarque-Bera (JB):              628.308\n",
              "Skew:                           1.535   Prob(JB):                    3.67e-137\n",
              "Kurtosis:                       7.514   Cond. No.                         216.\n",
              "==============================================================================\n",
              "\n",
              "Notes:\n",
              "[1] Standard Errors assume that the covariance matrix of the errors is correctly specified.\n",
              "\"\"\""
            ],
            "text/html": [
              "<table class=\"simpletable\">\n",
              "<caption>OLS Regression Results</caption>\n",
              "<tr>\n",
              "  <th>Dep. Variable:</th>         <td>Target</td>      <th>  R-squared:         </th> <td>   0.646</td> \n",
              "</tr>\n",
              "<tr>\n",
              "  <th>Model:</th>                   <td>OLS</td>       <th>  Adj. R-squared:    </th> <td>   0.644</td> \n",
              "</tr>\n",
              "<tr>\n",
              "  <th>Method:</th>             <td>Least Squares</td>  <th>  F-statistic:       </th> <td>   305.2</td> \n",
              "</tr>\n",
              "<tr>\n",
              "  <th>Date:</th>             <td>Fri, 30 Sep 2022</td> <th>  Prob (F-statistic):</th> <td>1.01e-112</td>\n",
              "</tr>\n",
              "<tr>\n",
              "  <th>Time:</th>                 <td>03:47:42</td>     <th>  Log-Likelihood:    </th> <td> -1577.6</td> \n",
              "</tr>\n",
              "<tr>\n",
              "  <th>No. Observations:</th>      <td>   506</td>      <th>  AIC:               </th> <td>   3163.</td> \n",
              "</tr>\n",
              "<tr>\n",
              "  <th>Df Residuals:</th>          <td>   502</td>      <th>  BIC:               </th> <td>   3180.</td> \n",
              "</tr>\n",
              "<tr>\n",
              "  <th>Df Model:</th>              <td>     3</td>      <th>                     </th>     <td> </td>    \n",
              "</tr>\n",
              "<tr>\n",
              "  <th>Covariance Type:</th>      <td>nonrobust</td>    <th>                     </th>     <td> </td>    \n",
              "</tr>\n",
              "</table>\n",
              "<table class=\"simpletable\">\n",
              "<tr>\n",
              "      <td></td>         <th>coef</th>     <th>std err</th>      <th>t</th>      <th>P>|t|</th>  <th>[0.025</th>    <th>0.975]</th>  \n",
              "</tr>\n",
              "<tr>\n",
              "  <th>Intercept</th> <td>   -2.5623</td> <td>    3.166</td> <td>   -0.809</td> <td> 0.419</td> <td>   -8.783</td> <td>    3.658</td>\n",
              "</tr>\n",
              "<tr>\n",
              "  <th>CRIM</th>      <td>   -0.1029</td> <td>    0.032</td> <td>   -3.215</td> <td> 0.001</td> <td>   -0.166</td> <td>   -0.040</td>\n",
              "</tr>\n",
              "<tr>\n",
              "  <th>RM</th>        <td>    5.2170</td> <td>    0.442</td> <td>   11.802</td> <td> 0.000</td> <td>    4.348</td> <td>    6.085</td>\n",
              "</tr>\n",
              "<tr>\n",
              "  <th>LSTAT</th>     <td>   -0.5785</td> <td>    0.048</td> <td>  -12.135</td> <td> 0.000</td> <td>   -0.672</td> <td>   -0.485</td>\n",
              "</tr>\n",
              "</table>\n",
              "<table class=\"simpletable\">\n",
              "<tr>\n",
              "  <th>Omnibus:</th>       <td>171.754</td> <th>  Durbin-Watson:     </th> <td>   0.822</td> \n",
              "</tr>\n",
              "<tr>\n",
              "  <th>Prob(Omnibus):</th> <td> 0.000</td>  <th>  Jarque-Bera (JB):  </th> <td> 628.308</td> \n",
              "</tr>\n",
              "<tr>\n",
              "  <th>Skew:</th>          <td> 1.535</td>  <th>  Prob(JB):          </th> <td>3.67e-137</td>\n",
              "</tr>\n",
              "<tr>\n",
              "  <th>Kurtosis:</th>      <td> 7.514</td>  <th>  Cond. No.          </th> <td>    216.</td> \n",
              "</tr>\n",
              "</table><br/><br/>Notes:<br/>[1] Standard Errors assume that the covariance matrix of the errors is correctly specified."
            ]
          },
          "metadata": {},
          "execution_count": 29
        }
      ],
      "source": [
        "# 세 개의 변수의 R-squared를 모두 더하면 1이 넘음 각 변수가 설명하는 부분이 겹침\n",
        "# 회귀 계수도 줄어들었음\n",
        "multi_model.summary()  "
      ]
    },
    {
      "cell_type": "code",
      "execution_count": 30,
      "metadata": {
        "id": "eK4lCSDlUlDK"
      },
      "outputs": [],
      "source": [
        "#multi_model로 예측하기\n",
        "pred4=multi_model.predict()"
      ]
    },
    {
      "cell_type": "code",
      "execution_count": 31,
      "metadata": {
        "colab": {
          "base_uri": "https://localhost:8080/",
          "height": 280
        },
        "id": "JZi0pFvzUlDK",
        "outputId": "81215859-5ee4-4000-dea9-8d107abdae8e"
      },
      "outputs": [
        {
          "output_type": "display_data",
          "data": {
            "text/plain": [
              "<Figure size 432x288 with 1 Axes>"
            ],
            "image/png": "[encoded data removed]"
          },
          "metadata": {
            "needs_background": "light"
          }
        }
      ],
      "source": [
        "import matplotlib.pyplot as plt\n",
        "\n",
        "# 실제값과 예측값 시각화\n",
        "plt.scatter(boston_data[ 'Target' ], pred4)\n",
        "plt.xlabel('real_value')\n",
        "plt.ylabel('pred_value')\n",
        "plt.show()\n"
      ]
    },
    {
      "cell_type": "code",
      "execution_count": 32,
      "metadata": {
        "colab": {
          "base_uri": "https://localhost:8080/",
          "height": 280
        },
        "id": "Cm3nmPVQUlDK",
        "outputId": "cdb4c9e7-1d16-4ac7-8253-027cb8b1c58c"
      },
      "outputs": [
        {
          "output_type": "display_data",
          "data": {
            "text/plain": [
              "<Figure size 432x288 with 1 Axes>"
            ],
            "image/png": "[encoded data removed]"
          },
          "metadata": {
            "needs_background": "light"
          }
        }
      ],
      "source": [
        "#multi 모델의 잔차보기\n",
        "multi_model.resid.plot()\n",
        "plt.xlabel(\"residual_number\")\n",
        "plt.show()"
      ]
    },
    {
      "cell_type": "markdown",
      "metadata": {
        "id": "lHnXg-UoUlDK"
      },
      "source": [
        "#### 앞에서 model2, model3 생성 후 보기"
      ]
    },
    {
      "cell_type": "code",
      "execution_count": 33,
      "metadata": {
        "colab": {
          "base_uri": "https://localhost:8080/",
          "height": 283
        },
        "id": "gUwr0g5rUlDK",
        "outputId": "4b113c5e-cdd1-4933-da7e-3440f68c04de"
      },
      "outputs": [
        {
          "output_type": "execute_result",
          "data": {
            "text/plain": [
              "<matplotlib.legend.Legend at 0x7f2a9a0b18d0>"
            ]
          },
          "metadata": {},
          "execution_count": 33
        },
        {
          "output_type": "display_data",
          "data": {
            "text/plain": [
              "<Figure size 432x288 with 1 Axes>"
            ],
            "image/png": "[encoded data removed]"
          },
          "metadata": {
            "needs_background": "light"
          }
        }
      ],
      "source": [
        "model1.resid.plot(label=\"crim\")\n",
        "model2.resid.plot(label=\"rm\")\n",
        "model3.resid.plot(label=\"lstat\")\n",
        "multi_model.resid.plot(label=\"full\")\n",
        "plt.legend()\n",
        "#full 모델이 잔차가 가장 작음\n",
        "#변수가 많아질수록 R2은 커지고, 잔차가 작아짐"
      ]
    },
    {
      "cell_type": "code",
      "execution_count": null,
      "metadata": {
        "id": "TPAErxP4UlDK"
      },
      "outputs": [],
      "source": []
    }
  ],
  "metadata": {
    "kernelspec": {
      "display_name": "Python 3",
      "language": "python",
      "name": "python3"
    },
    "language_info": {
      "codemirror_mode": {
        "name": "ipython",
        "version": 3
      },
      "file_extension": ".py",
      "mimetype": "text/x-python",
      "name": "python",
      "nbconvert_exporter": "python",
      "pygments_lexer": "ipython3",
      "version": "3.8.8"
    },
    "colab": {
      "provenance": [],
      "include_colab_link": true
    }
  },
  "nbformat": 4,
  "nbformat_minor": 0
}